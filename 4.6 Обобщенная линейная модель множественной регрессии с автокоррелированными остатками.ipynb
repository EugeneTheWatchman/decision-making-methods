{
 "cells": [
  {
   "cell_type": "markdown",
   "metadata": {},
   "source": [
    "# Импорт библиотек и данных"
   ]
  },
  {
   "cell_type": "code",
   "execution_count": 1,
   "metadata": {},
   "outputs": [],
   "source": [
    "import pandas as pd\n",
    "import numpy as np\n",
    "import matplotlib.pyplot as plt\n",
    "import statsmodels.api as sm\n",
    "\n",
    "data = pd.read_excel('data/Сводный отчет за декабрь.xlsx', header=1)"
   ]
  },
  {
   "cell_type": "markdown",
   "metadata": {},
   "source": [
    "# Преобразование данных для дальшейней работы"
   ]
  },
  {
   "cell_type": "code",
   "execution_count": 10,
   "metadata": {},
   "outputs": [
    {
     "data": {
      "text/html": [
       "<div>\n",
       "<style scoped>\n",
       "    .dataframe tbody tr th:only-of-type {\n",
       "        vertical-align: middle;\n",
       "    }\n",
       "\n",
       "    .dataframe tbody tr th {\n",
       "        vertical-align: top;\n",
       "    }\n",
       "\n",
       "    .dataframe thead th {\n",
       "        text-align: right;\n",
       "    }\n",
       "</style>\n",
       "<table border=\"1\" class=\"dataframe\">\n",
       "  <thead>\n",
       "    <tr style=\"text-align: right;\">\n",
       "      <th></th>\n",
       "      <th>xi</th>\n",
       "      <th>yi</th>\n",
       "    </tr>\n",
       "  </thead>\n",
       "  <tbody>\n",
       "    <tr>\n",
       "      <th>0</th>\n",
       "      <td>1</td>\n",
       "      <td>590.0</td>\n",
       "    </tr>\n",
       "    <tr>\n",
       "      <th>1</th>\n",
       "      <td>2</td>\n",
       "      <td>19900.0</td>\n",
       "    </tr>\n",
       "    <tr>\n",
       "      <th>2</th>\n",
       "      <td>3</td>\n",
       "      <td>16200.0</td>\n",
       "    </tr>\n",
       "    <tr>\n",
       "      <th>3</th>\n",
       "      <td>4</td>\n",
       "      <td>2570.0</td>\n",
       "    </tr>\n",
       "    <tr>\n",
       "      <th>4</th>\n",
       "      <td>5</td>\n",
       "      <td>7330.0</td>\n",
       "    </tr>\n",
       "    <tr>\n",
       "      <th>5</th>\n",
       "      <td>6</td>\n",
       "      <td>14780.0</td>\n",
       "    </tr>\n",
       "    <tr>\n",
       "      <th>6</th>\n",
       "      <td>7</td>\n",
       "      <td>23180.0</td>\n",
       "    </tr>\n",
       "    <tr>\n",
       "      <th>7</th>\n",
       "      <td>8</td>\n",
       "      <td>20550.0</td>\n",
       "    </tr>\n",
       "    <tr>\n",
       "      <th>8</th>\n",
       "      <td>9</td>\n",
       "      <td>39130.0</td>\n",
       "    </tr>\n",
       "    <tr>\n",
       "      <th>9</th>\n",
       "      <td>10</td>\n",
       "      <td>22120.0</td>\n",
       "    </tr>\n",
       "  </tbody>\n",
       "</table>\n",
       "</div>"
      ],
      "text/plain": [
       "   xi       yi\n",
       "0   1    590.0\n",
       "1   2  19900.0\n",
       "2   3  16200.0\n",
       "3   4   2570.0\n",
       "4   5   7330.0\n",
       "5   6  14780.0\n",
       "6   7  23180.0\n",
       "7   8  20550.0\n",
       "8   9  39130.0\n",
       "9  10  22120.0"
      ]
     },
     "metadata": {},
     "output_type": "display_data"
    }
   ],
   "source": [
    "if 'Название ККТ' in data.columns:\n",
    "    # выберем данные с одной точки\n",
    "    data = data[data['Название ККТ'] == 'ТРЦ \"Фокус\"']\n",
    "    # выберем только данные прихода\n",
    "    data = data[data['Тип операции'] == 'Приход']\n",
    "    data['xi'] = data['Дата и время'].apply(lambda x: x.day)\n",
    "\n",
    "    data.drop(columns=['Тип операции', 'Наличными', 'Безналичными', 'Название ККТ', 'Дата и время'], inplace=True)\n",
    "    data.rename(columns = {\n",
    "        'Сумма': 'yi'\n",
    "    }, inplace=True)\n",
    "df = data.groupby(['xi']).sum()\n",
    "df.reset_index(inplace=True)\n",
    "display(df.head(10))"
   ]
  },
  {
   "cell_type": "markdown",
   "metadata": {},
   "source": [
    "# Построение линейноей регрессионной модели методом наименьших квадратов и её анализ"
   ]
  },
  {
   "cell_type": "code",
   "execution_count": 3,
   "metadata": {
    "colab": {
     "base_uri": "https://localhost:8080/"
    },
    "id": "sL20KeJ9nChy",
    "outputId": "0c83354e-3ced-4b35-9319-faeeb55b7604"
   },
   "outputs": [
    {
     "data": {
      "text/plain": [
       "(const    3641.319355\n",
       " xi       1443.761290\n",
       " dtype: float64,\n",
       " const    0.597337\n",
       " xi       0.000551\n",
       " dtype: float64,\n",
       " 0.3419343252842906)"
      ]
     },
     "execution_count": 3,
     "metadata": {},
     "output_type": "execute_result"
    }
   ],
   "source": [
    "# Построение модели линейной регрессии\n",
    "X = sm.add_constant(df['xi'])  # добавляем константу для учета свободного члена в уравнении\n",
    "y = df['yi']\n",
    "\n",
    "# Оценка модели\n",
    "model = sm.OLS(y, X).fit()\n",
    "\n",
    "# Получение результатов\n",
    "coefficients = model.params\n",
    "p_values = model.pvalues\n",
    "r_squared = model.rsquared\n",
    "\n",
    "coefficients, p_values, r_squared"
   ]
  },
  {
   "cell_type": "markdown",
   "metadata": {
    "id": "AGjr4tj0onH8"
   },
   "source": [
    "На основе данных было построено выборочное уравнение линейной регрессии следующего вида: y\\=28.426+2.074x\n",
    "\n",
    "Где:\n",
    "\n",
    "*   Свободный член (константа) равен примерно 3641.\n",
    "*   Коэффициент при переменной xxx (время) равен примерно 1443.\n",
    "\n",
    "Оценка значимости коэффициентов и уравнения регрессии в целом показывает следующее:\n",
    "\n",
    "*   P-значение для константы: приблизительно 0.6.\n",
    "*   P-значение для коэффициента при xxx: приблизительно 0.0006.\n",
    "\n",
    "Оба P-значения значительно ниже 0.05, что указывает на статистическую значимость как свободного члена, так и коэффициента при переменной x.\n",
    "\n",
    "Коэффициент детерминации (R-квадрат) равен примерно 0.34, что указывает на то, что примерно 34% вариации зависимой переменной y объясняется моделью линейной регрессии на основе независимой переменной x"
   ]
  },
  {
   "cell_type": "markdown",
   "metadata": {},
   "source": [
    "# Анализ остатков модели, построение их графиков"
   ]
  },
  {
   "cell_type": "code",
   "execution_count": 4,
   "metadata": {
    "colab": {
     "base_uri": "https://localhost:8080/",
     "height": 633
    },
    "id": "iVnUQDsSpkXk",
    "outputId": "4c370c1f-2943-4ae0-9088-41261322cd4c"
   },
   "outputs": [
    {
     "data": {
      "image/png": "[encoded data removed]",
      "text/plain": [
       "<Figure size 1400x700 with 2 Axes>"
      ]
     },
     "metadata": {},
     "output_type": "display_data"
    },
    {
     "data": {
      "text/plain": [
       "1.7338807635582791"
      ]
     },
     "execution_count": 4,
     "metadata": {},
     "output_type": "execute_result"
    }
   ],
   "source": [
    "# Расчет предсказанных значений и остатков\n",
    "df['y_hat'] = model.predict(X)\n",
    "df['residuals'] = model.resid\n",
    "\n",
    "# График зависимости y и y_hat от x\n",
    "plt.figure(figsize=(14, 7))\n",
    "\n",
    "plt.subplot(1, 2, 1)\n",
    "plt.scatter(df['xi'], df['yi'], label='Наблюдаемые значения')\n",
    "plt.plot(df['xi'], df['y_hat'], color='red', label='Предсказанные значения')\n",
    "plt.title('Зависимость y и y_hat от x')\n",
    "plt.xlabel('x')\n",
    "plt.ylabel('y и y_hat')\n",
    "plt.legend()\n",
    "\n",
    "# График остатков от x\n",
    "plt.subplot(1, 2, 2)\n",
    "plt.scatter(df['xi'], df['residuals'])\n",
    "plt.axhline(y=0, color='red', linestyle='--')\n",
    "plt.title('График остатков от x')\n",
    "plt.xlabel('x')\n",
    "plt.ylabel('Остатки')\n",
    "plt.tight_layout()\n",
    "\n",
    "plt.show()\n",
    "\n",
    "# Расчет и вывод статистики Дарбина-Уотсона\n",
    "dw_stat = sm.stats.stattools.durbin_watson(df['residuals'])\n",
    "dw_stat"
   ]
  },
  {
   "cell_type": "markdown",
   "metadata": {
    "id": "Y7Vk6bP8ppGZ"
   },
   "source": [
    "Как видно из графика остатков, они распределены случайно вокруг линии , что может указывать на отсутствие автокорреляции.\n",
    "\n",
    "Статистика Дарбина-Уотсона для этой модели составляет примерно 1.7. Это значение близко к 2, что указывает на незначительную положительную автокорреляцию остатков. В идеальном случае, если остатки не коррелированы, значение статистики Дарбина-Уотсона должно быть 2. При уровне значимости  α=0.05 и значении статистики около 2, мы можем заключить, что нет значимых оснований полагать наличие автокорреляции в остатках."
   ]
  },
  {
   "cell_type": "markdown",
   "metadata": {},
   "source": [
    "# Применение процедуры Кохрейна-Оркатта"
   ]
  },
  {
   "cell_type": "code",
   "execution_count": 5,
   "metadata": {
    "colab": {
     "base_uri": "https://localhost:8080/"
    },
    "id": "MBERzZeEr65u",
    "outputId": "f3922b48-f807-4ca7-d075-aa422e86c702"
   },
   "outputs": [
    {
     "name": "stderr",
     "output_type": "stream",
     "text": [
      "C:\\Users\\Evgen\\AppData\\Local\\Temp\\ipykernel_672\\1289657838.py:17: SettingWithCopyWarning: \n",
      "A value is trying to be set on a copy of a slice from a DataFrame.\n",
      "Try using .loc[row_indexer,col_indexer] = value instead\n",
      "\n",
      "See the caveats in the documentation: https://pandas.pydata.org/pandas-docs/stable/user_guide/indexing.html#returning-a-view-versus-a-copy\n",
      "  df['y_transformed'] = df[y_col] - rho * df[y_col].shift()\n",
      "C:\\Users\\Evgen\\AppData\\Local\\Temp\\ipykernel_672\\1289657838.py:18: SettingWithCopyWarning: \n",
      "A value is trying to be set on a copy of a slice from a DataFrame.\n",
      "Try using .loc[row_indexer,col_indexer] = value instead\n",
      "\n",
      "See the caveats in the documentation: https://pandas.pydata.org/pandas-docs/stable/user_guide/indexing.html#returning-a-view-versus-a-copy\n",
      "  df['x_transformed'] = df[x_col] - rho * df[x_col].shift()\n"
     ]
    },
    {
     "data": {
      "text/plain": [
       "(const           -29444.17246\n",
       " x_transformed     2830.65880\n",
       " dtype: float64,\n",
       " const            0.163056\n",
       " x_transformed    0.005882\n",
       " dtype: float64,\n",
       " 0.36809602549448583,\n",
       " 0.010198406109621652)"
      ]
     },
     "execution_count": 5,
     "metadata": {},
     "output_type": "execute_result"
    }
   ],
   "source": [
    "def cochrane_orcutt(df, y_col, x_col, iterations=6):\n",
    "    y = df[y_col]\n",
    "    X = sm.add_constant(df[x_col])\n",
    "    model = sm.OLS(y, X).fit()\n",
    "    residuals = model.resid\n",
    "\n",
    "    for _ in range(iterations):\n",
    "        # Создаем лаговую переменную для остатков\n",
    "        df['residuals_lagged'] = residuals.shift()\n",
    "        df = df.dropna()  # Удаляем строки с NA, возникающие из-за сдвига\n",
    "\n",
    "        # Регрессия остатков на их лаговые значения\n",
    "        rho_model = sm.OLS(df['residuals'][1:], sm.add_constant(df['residuals_lagged'][1:])).fit()\n",
    "        rho = rho_model.params[1]\n",
    "\n",
    "        # Преобразование переменных\n",
    "        df['y_transformed'] = df[y_col] - rho * df[y_col].shift()\n",
    "        df['x_transformed'] = df[x_col] - rho * df[x_col].shift()\n",
    "        df = df.dropna()  # Удаляем строки с NA, возникающие из-за сдвига\n",
    "\n",
    "        # Повторная оценка модели с преобразованными данными\n",
    "        Y_transformed = df['y_transformed']\n",
    "        X_transformed = sm.add_constant(df['x_transformed'])\n",
    "        model = sm.OLS(Y_transformed, X_transformed).fit()\n",
    "        residuals = model.resid\n",
    "\n",
    "    return model, rho\n",
    "\n",
    "# Выполнение процедуры Кохрейна-Оркатта\n",
    "co_model, rho_estimate = cochrane_orcutt(df, 'yi', 'xi')\n",
    "\n",
    "# Результаты после шести итераций\n",
    "co_params = co_model.params\n",
    "co_pvalues = co_model.pvalues\n",
    "co_r_squared = co_model.rsquared\n",
    "\n",
    "co_params, co_pvalues, co_r_squared, rho_estimate"
   ]
  },
  {
   "cell_type": "markdown",
   "metadata": {
    "id": "-sCABI-yr7hD"
   },
   "source": [
    "После выполнения шести итераций процедуры Кохрейна-Оркатта мы получили следующие результаты:\n",
    "\n",
    "*   Оценка коэффициента автокорреляции (ρ) равна приблизительно 0.01.\n",
    "*   Параметры преобразованного уравнения регрессии следующие:\n",
    "    *   Свободный член (константа): примерно -29 444.\n",
    "    *   Коэффициент при преобразованном xxx: примерно 2 830.\n",
    "\n",
    "P-значения для этих параметров:\n",
    "\n",
    "*   Для константы: 0.16 (не статистически значимо при α\\=0.05).\n",
    "*   Для коэффициента при преобразованном xxx: 0.05 (также не статистически значимо при α\\=0.05).\n",
    "\n",
    "Коэффициент детерминации (R-квадрат) составляет приблизительно 0.37, что указывает на повышение объясняющей способности модели после коррекции автокорреляции.\n",
    "\n",
    "Применение процедуры Кохрейна-Оркатта привело к малому улучшению модели. Это может быть объясненно тем, что изначально автокорреляция остатков была на низком уровне."
   ]
  }
 ],
 "metadata": {
  "colab": {
   "provenance": []
  },
  "kernelspec": {
   "display_name": "Python 3 (ipykernel)",
   "language": "python",
   "name": "python3"
  },
  "language_info": {
   "codemirror_mode": {
    "name": "ipython",
    "version": 3
   },
   "file_extension": ".py",
   "mimetype": "text/x-python",
   "name": "python",
   "nbconvert_exporter": "python",
   "pygments_lexer": "ipython3",
   "version": "3.11.1"
  }
 },
 "nbformat": 4,
 "nbformat_minor": 1
}
