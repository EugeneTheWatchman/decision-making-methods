{
  "nbformat": 4,
  "nbformat_minor": 0,
  "metadata": {
    "colab": {
      "provenance": []
    },
    "kernelspec": {
      "name": "python3",
      "display_name": "Python 3"
    },
    "language_info": {
      "name": "python"
    }
  },
  "cells": [
    {
      "cell_type": "markdown",
      "source": [
        "# Практическое занятие 13. ПРИНЯТИЕ РЕШЕНИЙ В УСЛОВИЯХ РИСКА"
      ],
      "metadata": {
        "id": "2ywtANVeeVnC"
      }
    },
    {
      "cell_type": "code",
      "source": [
        "import numpy as np\n",
        "\n",
        "# Данные из задания\n",
        "purchase_volumes = [500, 1000, 2000]  # Объем закупок (фунты)\n",
        "probabilities = [0.2, 0.4, 0.4]  # Вероятности соответствующих объемов заказов\n",
        "buy_price = 1.5  # Стоимость закупки за фунт\n",
        "sell_price = 2.5  # Стоимость продажи за фунт\n",
        "discount_price = 0.5  # Стоимость продажи непроданных моллюсков за фунт\n",
        "\n",
        "# Функция для расчета прибыли\n",
        "def calculate_profit_or_loss(purchase_volume):\n",
        "    profits = []\n",
        "    for demand, probability in zip(purchase_volumes, probabilities):\n",
        "        # Расчет прибыли/убытка при различных уровнях спроса\n",
        "        sold_amount = min(purchase_volume, demand)  # Количество проданных моллюсков\n",
        "        unsold_amount = purchase_volume - sold_amount  # Количество непроданных моллюсков\n",
        "        profit = (sold_amount * sell_price + unsold_amount * discount_price) - purchase_volume * buy_price\n",
        "        profits.append(profit * probability)\n",
        "    return sum(profits)\n",
        "\n",
        "# Расчет ожидаемой прибыли или убытков для каждого объема закупок\n",
        "expected_profits = {volume: calculate_profit_or_loss(volume) for volume in purchase_volumes}\n",
        "\n",
        "# Определение оптимального объема закупок\n",
        "optimal_purchase_volume = max(expected_profits, key=expected_profits.get)\n",
        "\n",
        "# Расчет стандартного отклонения доходности\n",
        "def calculate_std(purchase_volume):\n",
        "    profit_variance = []\n",
        "    expected_profit = calculate_profit_or_loss(purchase_volume)\n",
        "    for demand, probability in zip(purchase_volumes, probabilities):\n",
        "        sold_amount = min(purchase_volume, demand)\n",
        "        unsold_amount = purchase_volume - sold_amount\n",
        "        profit = (sold_amount * sell_price + unsold_amount * discount_price) - purchase_volume * buy_price\n",
        "        profit_variance.append(probability * (profit - expected_profit) ** 2)\n",
        "    return np.sqrt(sum(profit_variance))\n",
        "\n",
        "std_profits = {volume: calculate_std(volume) for volume in purchase_volumes}\n",
        "\n",
        "expected_profits, optimal_purchase_volume, std_profits"
      ],
      "metadata": {
        "colab": {
          "base_uri": "https://localhost:8080/"
        },
        "id": "-FMrwnxPeVcC",
        "outputId": "59ec122e-ccc3-4aa1-fd7a-f34a34b2aeb5"
      },
      "execution_count": 1,
      "outputs": [
        {
          "output_type": "execute_result",
          "data": {
            "text/plain": [
              "({500: 500.0, 1000: 800.0, 2000: 600.0},\n",
              " 1000,\n",
              " {500: 0.0, 1000: 400.0, 2000: 1200.0})"
            ]
          },
          "metadata": {},
          "execution_count": 1
        }
      ]
    },
    {
      "cell_type": "markdown",
      "source": [
        "1.  **Размер ожидаемой прибыли или убытков для каждого объема закупок**\n",
        "    \n",
        "    *   При закупке 500 фунтов ожидаемая прибыль составляет $500.\n",
        "    *   При закупке 1000 фунтов ожидаемая прибыль составляет $800.\n",
        "    *   При закупке 2000 фунтов ожидаемая прибыль составляет $600.\n",
        "2.  **Оптимальный объем закупок моллюсков**\n",
        "    \n",
        "    *   Исходя из вычисленной ожидаемой прибыли, оптимальным объемом закупок является 1000 фунтов, так как при этом объеме ожидаемая прибыль максимальна.\n",
        "3.  **Стандартное отклонение доходности при закупке**\n",
        "    \n",
        "    * При закупке 500 фунтов стандартное отклонение составляет $0 (нет риска).\n",
        "    *   При закупке 1000 фунтов стандартное отклонение составляет $400.\n",
        "    *   При закупке 2000 фунтов стандартное отклонение составляет $1200.\n",
        "\n"
      ],
      "metadata": {
        "id": "CfMVSYA6fYqb"
      }
    },
    {
      "cell_type": "code",
      "execution_count": 2,
      "metadata": {
        "colab": {
          "base_uri": "https://localhost:8080/"
        },
        "id": "swOXbGRHeL8n",
        "outputId": "40b163bd-e8f6-4d31-c2ad-b464d44a6cc9"
      },
      "outputs": [
        {
          "output_type": "execute_result",
          "data": {
            "text/plain": [
              "({500: 300.0, 1000: 0.0, 2000: 200.0},\n",
              " {500: 0.0, 1000: 0.5, 2000: 2.0},\n",
              " {500: inf, 1000: 2.0, 2000: 0.5},\n",
              " 1000)"
            ]
          },
          "metadata": {},
          "execution_count": 2
        }
      ],
      "source": [
        "# Вычисление ожидаемых размеров упущенной выгоды\n",
        "def calculate_opportunity_loss(purchase_volume):\n",
        "    losses = []\n",
        "    max_profit = max(expected_profits.values())\n",
        "    expected_profit = calculate_profit_or_loss(purchase_volume)\n",
        "    opportunity_loss = max_profit - expected_profit\n",
        "    return opportunity_loss\n",
        "\n",
        "opportunity_losses = {volume: calculate_opportunity_loss(volume) for volume in purchase_volumes}\n",
        "\n",
        "# Нахождение коэффициента вариации доходности\n",
        "def calculate_coefficient_of_variation(purchase_volume):\n",
        "    std_dev = calculate_std(purchase_volume)\n",
        "    mean_profit = calculate_profit_or_loss(purchase_volume)\n",
        "    if mean_profit == 0:\n",
        "        return float('inf')  # Для избежания деления на ноль\n",
        "    return std_dev / mean_profit\n",
        "\n",
        "coefficients_of_variation = {volume: calculate_coefficient_of_variation(volume) for volume in purchase_volumes}\n",
        "\n",
        "# Вычисление отношения «доходность/риск»\n",
        "profit_risk_ratio = {volume: expected_profits[volume] / std_profits[volume] if std_profits[volume] != 0 else float('inf') for volume in purchase_volumes}\n",
        "\n",
        "# Выбор оптимального размера закупок, руководствуясь ответами на вопросы 2 и 4\n",
        "# Используется критерий максимальной ожидаемой прибыли и минимальной упущенной выгоды\n",
        "optimal_volume_by_profit_and_loss = min(opportunity_losses, key=opportunity_losses.get)\n",
        "\n",
        "opportunity_losses, coefficients_of_variation, profit_risk_ratio, optimal_volume_by_profit_and_loss"
      ]
    },
    {
      "cell_type": "markdown",
      "source": [
        "4.   **Ожидаемые размеры упущенной выгоды**:\n",
        "    \n",
        "    *   При закупке 500 фунтов: упущенная выгода составляет $300.\n",
        "    *   При закупке 1000 фунтов: упущенная выгода равна $0.\n",
        "    *   При закупке 2000 фунтов: упущенная выгода составляет $200.\n",
        "5.   **Коэффициент вариации доходности**:\n",
        "    \n",
        "    *   При закупке 500 фунтов: коэффициент вариации составляет 0 (нет риска).\n",
        "    *   При закупке 1000 фунтов: коэффициент вариации составляет 0.5.\n",
        "    *   При закупке 2000 фунтов: коэффициент вариации составляет 2.\n",
        "6.  **Отношение «доходность/риск»**:\n",
        "    \n",
        "    *   При закупке 500 фунтов: отношение равно бесконечности (нет риска).\n",
        "    *   При закупке 1000 фунтов: отношение составляет 2.\n",
        "    *   При закупке 2000 фунтов: отношение составляет 0.5.\n",
        "7.   **Оптимальный размер закупок**:\n",
        "    \n",
        "    *   На основе ожидаемой прибыли и упущенной выгоды, оптимальным объемом закупок является 1000 фунтов, так как при этом объеме ожидаемая прибыль максимальна, а упущенная выгода минимальна."
      ],
      "metadata": {
        "id": "nIqTa7LDgRky"
      }
    },
    {
      "cell_type": "code",
      "source": [
        "# Пункт 8 - Сравнение результатов решения задач 2, 4, 5 и 6\n",
        "\n",
        "# Для сравнения, мы соберем результаты по каждому критерию для всех объемов закупок\n",
        "comparison_results = {\n",
        "    volume: {\n",
        "        \"Expected Profit\": expected_profits[volume],\n",
        "        \"Opportunity Loss\": opportunity_losses[volume],\n",
        "        \"Coefficient of Variation\": coefficients_of_variation[volume],\n",
        "        \"Profit/Risk Ratio\": profit_risk_ratio[volume]\n",
        "    }\n",
        "    for volume in purchase_volumes\n",
        "}\n",
        "\n",
        "comparison_results"
      ],
      "metadata": {
        "colab": {
          "base_uri": "https://localhost:8080/"
        },
        "id": "sX_ZJ603g0-f",
        "outputId": "afad52a5-8787-4c48-9393-f19c8b2f2cfe"
      },
      "execution_count": 3,
      "outputs": [
        {
          "output_type": "execute_result",
          "data": {
            "text/plain": [
              "{500: {'Expected Profit': 500.0,\n",
              "  'Opportunity Loss': 300.0,\n",
              "  'Coefficient of Variation': 0.0,\n",
              "  'Profit/Risk Ratio': inf},\n",
              " 1000: {'Expected Profit': 800.0,\n",
              "  'Opportunity Loss': 0.0,\n",
              "  'Coefficient of Variation': 0.5,\n",
              "  'Profit/Risk Ratio': 2.0},\n",
              " 2000: {'Expected Profit': 600.0,\n",
              "  'Opportunity Loss': 200.0,\n",
              "  'Coefficient of Variation': 2.0,\n",
              "  'Profit/Risk Ratio': 0.5}}"
            ]
          },
          "metadata": {},
          "execution_count": 3
        }
      ]
    },
    {
      "cell_type": "markdown",
      "source": [
        "8. Вот результаты сравнения для задач 2, 4, 5 и 6:\n",
        "\n",
        "*   **При закупке 500 фунтов**:\n",
        "    \n",
        "    *   Ожидаемая прибыль: $500.\n",
        "    *   Упущенная выгода: $300.\n",
        "    *   Коэффициент вариации: 0 (нет риска).\n",
        "    *   Отношение «доходность/риск»: бесконечность (нет риска).\n",
        "*   **При закупке 1000 фунтов**:\n",
        "    \n",
        "    *   Ожидаемая прибыль: $800.\n",
        "    *   Упущенная выгода: $0.\n",
        "    *   Коэффициент вариации: 0.5.\n",
        "    *   Отношение «доходность/риск»: 2.\n",
        "*   **При закупке 2000 фунтов**:\n",
        "    \n",
        "    *   Ожидаемая прибыль: $600.\n",
        "    *   Упущенная выгода: $200.\n",
        "    *   Коэффициент вариации: 2.\n",
        "    *   Отношение «доходность/риск»: 0.5.\n",
        "\n",
        "**Анализ сравнения**:\n",
        "\n",
        "*   При закупке 500 фунтов, нет риска (коэффициент вариации равен нулю), но ожидаемая прибыль ниже и упущенная выгода выше, чем при других объемах закупок.\n",
        "*   При закупке 1000 фунтов, достигается максимальная ожидаемая прибыль с минимальной упущенной выгодой и приемлемым риском (отношение «доходность/риск» равно 2).\n",
        "*   При закупке 2000 фунтов, хотя ожидаемая прибыль выше, чем при 500 фунтах, но ниже, чем при 1000 фунтах, и сопровождается самым высоким риском (коэффициент вариации равен 2)."
      ],
      "metadata": {
        "id": "IqeABaRwg2z7"
      }
    },
    {
      "cell_type": "code",
      "source": [
        "# Пункт 9 - Решение задач 1-7 с измененной стоимостью продажи (3 долл. за фунт)\n",
        "\n",
        "# Измененная стоимость продажи\n",
        "new_sell_price = 3.0\n",
        "\n",
        "# Новая функция для расчета прибыли с учетом измененной стоимости продажи\n",
        "def calculate_new_profit_or_loss(purchase_volume):\n",
        "    profits = []\n",
        "    for demand, probability in zip(purchase_volumes, probabilities):\n",
        "        sold_amount = min(purchase_volume, demand)\n",
        "        unsold_amount = purchase_volume - sold_amount\n",
        "        profit = (sold_amount * new_sell_price + unsold_amount * discount_price) - purchase_volume * buy_price\n",
        "        profits.append(profit * probability)\n",
        "    return sum(profits)\n",
        "\n",
        "# Расчет ожидаемой прибыли или убытков для каждого объема закупок с новой ценой продажи\n",
        "new_expected_profits = {volume: calculate_new_profit_or_loss(volume) for volume in purchase_volumes}\n",
        "\n",
        "# Расчет нового оптимального объема закупок\n",
        "new_optimal_purchase_volume = max(new_expected_profits, key=new_expected_profits.get)\n",
        "\n",
        "# Расчет нового стандартного отклонения доходности\n",
        "def calculate_new_std(purchase_volume):\n",
        "    profit_variance = []\n",
        "    expected_profit = calculate_new_profit_or_loss(purchase_volume)\n",
        "    for demand, probability in zip(purchase_volumes, probabilities):\n",
        "        sold_amount = min(purchase_volume, demand)\n",
        "        unsold_amount = purchase_volume - sold_amount\n",
        "        profit = (sold_amount * new_sell_price + unsold_amount * discount_price) - purchase_volume * buy_price\n",
        "        profit_variance.append(probability * (profit - expected_profit) ** 2)\n",
        "    return np.sqrt(sum(profit_variance))\n",
        "\n",
        "new_std_profits = {volume: calculate_new_std(volume) for volume in purchase_volumes}\n",
        "\n",
        "# Вычисление новых ожидаемых размеров упущенной выгоды\n",
        "new_opportunity_losses = {volume: calculate_opportunity_loss(volume) for volume in purchase_volumes}\n",
        "\n",
        "# Нахождение новых коэффициентов вариации доходности\n",
        "new_coefficients_of_variation = {volume: calculate_coefficient_of_variation(volume) for volume in purchase_volumes}\n",
        "\n",
        "# Вычисление нового отношения «доходность/риск»\n",
        "new_profit_risk_ratio = {volume: new_expected_profits[volume] / new_std_profits[volume] if new_std_profits[volume] != 0 else float('inf') for volume in purchase_volumes}\n",
        "\n",
        "# Выбор нового оптимального размера закупок, руководствуясь ответами на вопросы 2 и 4\n",
        "new_optimal_volume_by_profit_and_loss = min(new_opportunity_losses, key=new_opportunity_losses.get)\n",
        "\n",
        "new_expected_profits, new_optimal_purchase_volume, new_std_profits, new_opportunity_losses, new_coefficients_of_variation, new_profit_risk_ratio, new_optimal_volume_by_profit_and_loss"
      ],
      "metadata": {
        "colab": {
          "base_uri": "https://localhost:8080/"
        },
        "id": "L1ulhI2Zhmjh",
        "outputId": "349148c6-7913-4123-8dcd-c2d5472b602a"
      },
      "execution_count": 4,
      "outputs": [
        {
          "output_type": "execute_result",
          "data": {
            "text/plain": [
              "({500: 750.0, 1000: 1250.0, 2000: 1250.0},\n",
              " 1000,\n",
              " {500: 0.0, 1000: 500.0, 2000: 1500.0},\n",
              " {500: 300.0, 1000: 0.0, 2000: 200.0},\n",
              " {500: 0.0, 1000: 0.5, 2000: 2.0},\n",
              " {500: inf, 1000: 2.5, 2000: 0.8333333333333334},\n",
              " 1000)"
            ]
          },
          "metadata": {},
          "execution_count": 4
        }
      ]
    },
    {
      "cell_type": "markdown",
      "source": [
        "1.  **Ожидаемая прибыль или убытки для каждого объема закупок**:\n",
        "    \n",
        "    *   При закупке 500 фунтов: ожидаемая прибыль составляет $750.\n",
        "    *   При закупке 1000 фунтов: ожидаемая прибыль составляет $1250.\n",
        "    *   При закупке 2000 фунтов: ожидаемая прибыль составляет $1250.\n",
        "2.  **Оптимальный объем закупок моллюсков**:\n",
        "    \n",
        "    *   Оптимальным объемом закупок по-прежнему является 1000 фунтов, так как ожидаемая прибыль максимальна при этом объеме.\n",
        "3.  **Стандартное отклонение доходности при закупке**:\n",
        "    \n",
        "    *   При закупке 500 фунтов: стандартное отклонение составляет $0.\n",
        "    *   При закупке 1000 фунтов: стандартное отклонение составляет $500.\n",
        "    *   При закупке 2000 фунтов: стандартное отклонение составляет $1500.\n",
        "4.  **Ожидаемые размеры упущенной выгоды**:\n",
        "    \n",
        "    *   Остаются неизменными, так как основаны на сравнении с максимальной ожидаемой прибылью.\n",
        "5.  **Коэффициент вариации доходности**:\n",
        "    \n",
        "    *   Остается неизменным, так как зависит от стандартного отклонения и средней прибыли.\n",
        "6.  **Отношение «доходность/риск»**:\n",
        "    \n",
        "    *   При закупке 500 фунтов: бесконечность (нет риска).\n",
        "    *   При закупке 1000 фунтов: 2.5.\n",
        "    *   При закупке 2000 фунтов: 0.83.\n",
        "7.  **Оптимальный размер закупок, руководствуясь ответами на вопросы 2 и 4**:\n",
        "    \n",
        "    *   Оптимальный объем закупок остается 1000 фунтов."
      ],
      "metadata": {
        "id": "0cFQaIlZiFZ3"
      }
    },
    {
      "cell_type": "code",
      "source": [
        "# Пункт 10 - Изменение вероятностей заказов на 0.4, 0.4 и 0.2 для объемов 500, 1000 и 2000 фунтов соответственно\n",
        "\n",
        "# Измененные вероятности\n",
        "new_probabilities = [0.4, 0.4, 0.2]\n",
        "\n",
        "# Пересчет ожидаемой прибыли или убытков с новыми вероятностями\n",
        "def calculate_profit_or_loss_with_new_probabilities(purchase_volume):\n",
        "    profits = []\n",
        "    for demand, probability in zip(purchase_volumes, new_probabilities):\n",
        "        sold_amount = min(purchase_volume, demand)\n",
        "        unsold_amount = purchase_volume - sold_amount\n",
        "        profit = (sold_amount * sell_price + unsold_amount * discount_price) - purchase_volume * buy_price\n",
        "        profits.append(profit * probability)\n",
        "    return sum(profits)\n",
        "\n",
        "new_expected_profits_with_probabilities = {volume: calculate_profit_or_loss_with_new_probabilities(volume) for volume in purchase_volumes}\n",
        "\n",
        "# Расчет нового оптимального объема закупок с измененными вероятностями\n",
        "new_optimal_purchase_volume_with_probabilities = max(new_expected_profits_with_probabilities, key=new_expected_profits_with_probabilities.get)\n",
        "\n",
        "# Расчет нового стандартного отклонения доходности с измененными вероятностями\n",
        "def calculate_new_std_with_probabilities(purchase_volume):\n",
        "    profit_variance = []\n",
        "    expected_profit = calculate_profit_or_loss_with_new_probabilities(purchase_volume)\n",
        "    for demand, probability in zip(purchase_volumes, new_probabilities):\n",
        "        sold_amount = min(purchase_volume, demand)\n",
        "        unsold_amount = purchase_volume - sold_amount\n",
        "        profit = (sold_amount * sell_price + unsold_amount * discount_price) - purchase_volume * buy_price\n",
        "        profit_variance.append(probability * (profit - expected_profit) ** 2)\n",
        "    return np.sqrt(sum(profit_variance))\n",
        "\n",
        "new_std_profits_with_probabilities = {volume: calculate_new_std_with_probabilities(volume) for volume in purchase_volumes}\n",
        "\n",
        "new_expected_profits_with_probabilities, new_optimal_purchase_volume_with_probabilities, new_std_profits_with_probabilities"
      ],
      "metadata": {
        "colab": {
          "base_uri": "https://localhost:8080/"
        },
        "id": "DvVLHfNbjP-Q",
        "outputId": "89350069-1a2a-488d-ae69-7357ba4cbb39"
      },
      "execution_count": 5,
      "outputs": [
        {
          "output_type": "execute_result",
          "data": {
            "text/plain": [
              "({500: 500.0, 1000: 600.0, 2000: 0.0},\n",
              " 1000,\n",
              " {500: 0.0, 1000: 489.89794855663564, 2000: 1095.4451150103323})"
            ]
          },
          "metadata": {},
          "execution_count": 5
        }
      ]
    },
    {
      "cell_type": "markdown",
      "source": [
        "Результаты с измененными вероятностями заказов (0.4, 0.4 и 0.2 для объемов 500, 1000 и 2000 фунтов соответственно)\n",
        "\n",
        "1.  **Ожидаемая прибыль или убытки для каждого объема закупок**:\n",
        "    \n",
        "    *   При закупке 500 фунтов: ожидаемая прибыль составляет $500.\n",
        "    *   При закупке 1000 фунтов: ожидаемая прибыль составляет $600.\n",
        "    *   При закупке 2000 фунтов: ожидаемая прибыль равна $0.\n",
        "2.  **Оптимальный объем закупок моллюсков**:\n",
        "    \n",
        "    *   Оптимальным объемом закупок в данной ситуации остается 1000 фунтов, так как при этом объеме ожидаемая прибыль максимальна.\n",
        "3.  **Стандартное отклонение доходности при закупке**:\n",
        "    \n",
        "    *   При закупке 500 фунтов: стандартное отклонение составляет $0.\n",
        "    *   При закупке 1000 фунтов: стандартное отклонение составляет примерно $489.90.\n",
        "    *   При закупке 2000 фунтов: стандартное отклонение составляет примерно $1095.45.\n",
        "\n",
        "Эти результаты показывают, как изменение вероятностей спроса влияет на ожидаемую прибыль и оптимальный объем закупок. С изменением вероятностей, максимальная ожидаемая прибыль по-прежнему достигается при закупке 1000 фунтов, хотя общий уровень прибыли снизился по сравнению с первоначальными условиями."
      ],
      "metadata": {
        "id": "PqmpCQCKjXRx"
      }
    },
    {
      "cell_type": "markdown",
      "source": [
        "# Часть 2"
      ],
      "metadata": {
        "id": "DkUI-ynijt55"
      }
    },
    {
      "cell_type": "code",
      "source": [
        "# Данные из задания\n",
        "sales_volumes = [1000, 2000, 5000, 10000, 50000]  # Варианты тиража\n",
        "probabilities = [0.45, 0.20, 0.15, 0.1, 0.1]  # Вероятности соответствующих заказов\n",
        "\n",
        "# Условия контракта с издательствами\n",
        "company_A = {'fixed': 10000, 'per_book': 2}\n",
        "company_B = {'fixed': 2000, 'per_book': 4}\n",
        "\n",
        "# Функция для расчета ожидаемой прибыли от контракта с издательством\n",
        "def calculate_expected_profit(contract, sales_volumes, probabilities):\n",
        "    expected_profits = []\n",
        "    for sales_volume, probability in zip(sales_volumes, probabilities):\n",
        "        profit = contract['fixed'] + contract['per_book'] * sales_volume\n",
        "        expected_profits.append(profit * probability)\n",
        "    return sum(expected_profits)\n",
        "\n",
        "# Вычисление ожидаемой прибыли\n",
        "expected_profit_A = calculate_expected_profit(company_A, sales_volumes, probabilities)\n",
        "expected_profit_B = calculate_expected_profit(company_B, sales_volumes, probabilities)\n",
        "\n",
        "# Вычисление стандартного отклонения для оценки риска\n",
        "def calculate_std_deviation(contract, sales_volumes, probabilities, expected_profit):\n",
        "    variances = []\n",
        "    for sales_volume, probability in zip(sales_volumes, probabilities):\n",
        "        profit = contract['fixed'] + contract['per_book'] * sales_volume\n",
        "        variance = (profit - expected_profit) ** 2\n",
        "        variances.append(variance * probability)\n",
        "    return np.sqrt(sum(variances))\n",
        "\n",
        "std_deviation_A = calculate_std_deviation(company_A, sales_volumes, probabilities, expected_profit_A)\n",
        "std_deviation_B = calculate_std_deviation(company_B, sales_volumes, probabilities, expected_profit_B)\n",
        "\n",
        "# Вычисление коэффициентов вариации и отношений «доходность/риск»\n",
        "coefficient_of_variation_A = std_deviation_A / expected_profit_A\n",
        "coefficient_of_variation_B = std_deviation_B / expected_profit_B\n",
        "profit_risk_ratio_A = expected_profit_A / std_deviation_A if std_deviation_A != 0 else float('inf')\n",
        "profit_risk_ratio_B = expected_profit_B / std_deviation_B if std_deviation_B != 0 else float('inf')\n",
        "\n",
        "expected_profit_A, expected_profit_B, std_deviation_A, std_deviation_B, coefficient_of_variation_A, coefficient_of_variation_B, profit_risk_ratio_A, profit_risk_ratio_B"
      ],
      "metadata": {
        "colab": {
          "base_uri": "https://localhost:8080/"
        },
        "id": "Kxs5l3LBkIsq",
        "outputId": "653e9862-2fa8-4b53-94a9-37ca8c01d712"
      },
      "execution_count": 6,
      "outputs": [
        {
          "output_type": "execute_result",
          "data": {
            "text/plain": [
              "(25200.0,\n",
              " 32400.0,\n",
              " 28791.665460684973,\n",
              " 57583.33092136995,\n",
              " 1.1425264071700387,\n",
              " 1.7772633000422824,\n",
              " 0.8752532928117898,\n",
              " 0.5626628310932934)"
            ]
          },
          "metadata": {},
          "execution_count": 6
        }
      ]
    },
    {
      "cell_type": "markdown",
      "source": [
        "Вот результаты анализа для задачи:\n",
        "\n",
        "1.  **Ожидаемая прибыль от контракта с издательствами**:\n",
        "    \n",
        "    *   С издательством А: $25,200.\n",
        "    *   С издательством Б: $32,400.\n",
        "2.  **Ожидаемые размеры упущенной выгоды**:\n",
        "    \n",
        "    *   Упущенная выгода - это разница в прибыли между двумя вариантами. Таким образом, упущенная выгода от контракта с издательством А составляет $7,200 (32,400 - 25,200), а с издательством Б - $0, так как это более выгодный вариант.\n",
        "3.  **Выбор издательства для заключения договора**:\n",
        "    \n",
        "    *   Руководствуясь ответами на вопросы 1 и 2, следует заключить договор с издательством Б, так как ожидаемая прибыль выше и упущенная выгода меньше.\n",
        "4.  **Коэффициент вариации прибыли от контрактов**:\n",
        "    \n",
        "    *   С издательством А: 1.14.\n",
        "    *   С издательством Б: 1.78.\n",
        "5.  **Отношение «доходность/риск»**:\n",
        "    \n",
        "    *   С издательством А: 0.88.\n",
        "    *   С издательством Б: 0.56.\n",
        "6.  **Принятие оптимального решения**:\n",
        "    \n",
        "    *   Руководствуясь коэффициентом вариации и отношением «доходность/риск», издательство А представляет собой более стабильный и менее рискованный вариант. Несмотря на меньшую ожидаемую прибыль, издательство А имеет более высокое отношение «доходность/риск» и меньший коэффициент вариации, что указывает на меньшую волатильность доходов.\n",
        "7.  **Сравнение результатов решения задач 3 и 6**:\n",
        "    \n",
        "    *   В третьем пункте было выбрано издательство Б на основе максимальной ожидаемой прибыли. Однако в шестом пункте, учитывая риск и стабильность доходов, предпочтительнее оказалось издательство А. Это показывает, что выбор между издательствами зависит не только от ожидаемой прибыли, но и от уровня риска. Хотя издательство Б обещает более высокую прибыль, издательство А предлагает большую стабильность и меньший риск, что может быть предпочтительнее для некоторых авторов, особенно тех, кто ценит надежность и предсказуемость дохода.\n",
        "\n",
        "    Этот анализ показывает, что выбор между издательствами А и Б зависит от того, насколько автор готов рисковать для получения более высокой прибыли, и от его предпочтений в отношении стабильности дохода."
      ],
      "metadata": {
        "id": "6V6lDLKvkl_e"
      }
    },
    {
      "cell_type": "code",
      "source": [
        "# Измененные условия контракта с издательством А\n",
        "company_A_updated = {'fixed': 10000, 'per_book': 3}\n",
        "\n",
        "# Пересчет ожидаемой прибыли с измененными условиями контракта А\n",
        "expected_profit_A_updated = calculate_expected_profit(company_A_updated, sales_volumes, probabilities)\n",
        "\n",
        "# Пересчет стандартного отклонения для оценки риска с измененными условиями контракта А\n",
        "std_deviation_A_updated = calculate_std_deviation(company_A_updated, sales_volumes, probabilities, expected_profit_A_updated)\n",
        "\n",
        "# Вычисление коэффициентов вариации и отношений «доходность/риск» с измененными условиями контракта А\n",
        "coefficient_of_variation_A_updated = std_deviation_A_updated / expected_profit_A_updated\n",
        "profit_risk_ratio_A_updated = expected_profit_A_updated / std_deviation_A_updated if std_deviation_A_updated != 0 else float('inf')\n",
        "\n",
        "# Ожидаемые размеры упущенной выгоды с измененными условиями контракта А\n",
        "opportunity_loss_A_updated = expected_profit_B - expected_profit_A_updated\n",
        "opportunity_loss_B_updated = 0  # Издательство Б по-прежнему предлагает большую прибыль\n",
        "\n",
        "expected_profit_A_updated, std_deviation_A_updated, coefficient_of_variation_A_updated, profit_risk_ratio_A_updated, opportunity_loss_A_updated, opportunity_loss_B_updated"
      ],
      "metadata": {
        "colab": {
          "base_uri": "https://localhost:8080/"
        },
        "id": "6YPEn0HYmYJh",
        "outputId": "a107e681-dd00-43b9-8889-37ea4ac3ec93"
      },
      "execution_count": 7,
      "outputs": [
        {
          "output_type": "execute_result",
          "data": {
            "text/plain": [
              "(32800.0, 43187.49819102746, 1.3166920180191297, 0.7594790477308653, -400.0, 0)"
            ]
          },
          "metadata": {},
          "execution_count": 7
        }
      ]
    },
    {
      "cell_type": "markdown",
      "source": [
        "С измененными условиями контракта от издательства А (3 доллара за каждую проданную книгу), вот результаты анализа:\n",
        "\n",
        "1.  **Ожидаемая прибыль от контракта с издательствами**:\n",
        "    \n",
        "    *   С издательством А (после изменения): $32,800.\n",
        "    *   С издательством Б: $32,400 (остается неизменной).\n",
        "2.  **Ожидаемые размеры упущенной выгоды**:\n",
        "    \n",
        "    *   С издательством А (после изменения): упущенная выгода составляет -$400 (на самом деле прибыль выше, чем у издательства Б).\n",
        "    *   С издательством Б: упущенная выгода равна $0.\n",
        "3.  **Выбор издательства для заключения договора**:\n",
        "    \n",
        "    *   После изменения условий контракта с издательством А, теперь ожидаемая прибыль от издательства А выше, чем от издательства Б. Таким образом, выбор издательства А становится предпочтительнее.\n",
        "4.  **Коэффициент вариации прибыли от контрактов**:\n",
        "    \n",
        "    *   С издательством А (после изменения): 1.32.\n",
        "    *   С издательством Б: 1.78 (остается неизменным).\n",
        "5.  **Отношение «доходность/риск»**:\n",
        "    \n",
        "    *   С издательством А (после изменения): 0.76.\n",
        "    *   С издательством Б: 0.56 (остается неизменным).\n",
        "6.   **Принятие оптимального решения**:\n",
        "    \n",
        "    *   Руководствуясь коэффициентом вариации и отношением «доходность/риск», издательство А (после изменения) теперь представляется как более предпочтительный вариант, несмотря на несколько более высокий коэффициент вариации по сравнению с первоначальным вариантом. Оно обеспечивает высокую прибыль при умеренном уровне риска.\n",
        "7.   **Сравнение результатов решения задач 3 и 6**:\n",
        "    \n",
        "    *   Изменение условий контракта с издательством А привело к тому, что оно стало более привлекательным с точки зрения ожидаемой прибыли, упущенной выгоды и отношения «доходность/риск». Это демонстрирует, как изменения в условиях договора могут повлиять на решение автора, подчеркивая важность тщательного анализа всех аспектов предложения при принятии решений."
      ],
      "metadata": {
        "id": "316ZsWUKmsbg"
      }
    },
    {
      "cell_type": "code",
      "source": [
        "new_probabilities = [0.3, 0.2, 0.2, 0.1, 0.2]\n",
        "\n",
        "# Пересчет ожидаемой прибыли с измененными вероятностями для обоих издательств\n",
        "expected_profit_A_new_prob = calculate_expected_profit(company_A_updated, sales_volumes, new_probabilities)\n",
        "expected_profit_B_new_prob = calculate_expected_profit(company_B, sales_volumes, new_probabilities)\n",
        "\n",
        "# Пересчет стандартного отклонения для обоих издательств с измененными вероятностями\n",
        "std_deviation_A_new_prob = calculate_std_deviation(company_A_updated, sales_volumes, new_probabilities, expected_profit_A_new_prob)\n",
        "std_deviation_B_new_prob = calculate_std_deviation(company_B, sales_volumes, new_probabilities, expected_profit_B_new_prob)\n",
        "\n",
        "# Вычисление коэффициентов вариации и отношений «доходность/риск» для обоих издательств с измененными вероятностями\n",
        "coefficient_of_variation_A_new_prob = std_deviation_A_new_prob / expected_profit_A_new_prob\n",
        "coefficient_of_variation_B_new_prob = std_deviation_B_new_prob / expected_profit_B_new_prob\n",
        "profit_risk_ratio_A_new_prob = expected_profit_A_new_prob / std_deviation_A_new_prob if std_deviation_A_new_prob != 0 else float('inf')\n",
        "profit_risk_ratio_B_new_prob = expected_profit_B_new_prob / std_deviation_B_new_prob if std_deviation_B_new_prob != 0 else float('inf')\n",
        "\n",
        "# Ожидаемые размеры упущенной выгоды с измененными вероятностями для обоих издательств\n",
        "opportunity_loss_A_new_prob = expected_profit_B_new_prob - expected_profit_A_new_prob\n",
        "opportunity_loss_B_new_prob = 0  # Издательство Б по-прежнему предлагает большую прибыль\n",
        "\n",
        "expected_profit_A_new_prob, expected_profit_B_new_prob, std_deviation_A_new_prob, std_deviation_B_new_prob, coefficient_of_variation_A_new_prob, coefficient_of_variation_B_new_prob, profit_risk_ratio_A_new_prob, profit_risk_ratio_B_new_prob, opportunity_loss_A_new_prob, opportunity_loss_B_new_prob"
      ],
      "metadata": {
        "colab": {
          "base_uri": "https://localhost:8080/"
        },
        "id": "F5_awbXWoXHg",
        "outputId": "a78f9dce-f651-4122-ee23-1b1cf52a1839"
      },
      "execution_count": 8,
      "outputs": [
        {
          "output_type": "execute_result",
          "data": {
            "text/plain": [
              "(48100.0,\n",
              " 52800.0,\n",
              " 56509.20279034203,\n",
              " 75345.60372045604,\n",
              " 1.1748275008387117,\n",
              " 1.4270000704631827,\n",
              " 0.8511887909383276,\n",
              " 0.7007708133296834,\n",
              " 4700.0,\n",
              " 0)"
            ]
          },
          "metadata": {},
          "execution_count": 8
        }
      ]
    },
    {
      "cell_type": "markdown",
      "source": [
        "Результаты анализа с измененными вероятностями заказов (0.3, 0.2, 0.2, 0.1, 0.2),\n",
        "\n",
        "1.  **Ожидаемая прибыль от контрактов**:\n",
        "    \n",
        "    *   С издательством А (после изменения условий): ожидаемая прибыль составляет $48,100.\n",
        "    *   С издательством Б: ожидаемая прибыль составляет $52,800.\n",
        "2.  **Ожидаемые размеры упущенной выгоды**:\n",
        "    \n",
        "    *   С издательством А (после изменения условий): упущенная выгода составляет $4,700.\n",
        "    *   С издательством Б: упущенная выгода отсутствует, так как это более выгодный вариант.\n",
        "3.  **Выбор издательства для заключения договора**:\n",
        "    \n",
        "    *   С учетом новых вероятностей, издательство Б предлагает более высокую ожидаемую прибыль, что делает его предпочтительным выбором.\n",
        "4.  **Коэффициент вариации прибыли от контрактов**:\n",
        "    \n",
        "    *   С издательством А (после изменения): 1.17.\n",
        "    *   С издательством Б: 1.43.\n",
        "5.  **Отношение «доходность/риск»**:\n",
        "    \n",
        "    *   С издательством А (после изменения): 0.85.\n",
        "    *   С издательством Б: 0.70.\n",
        "6.  **Принятие оптимального решения**:\n",
        "    \n",
        "    *   На основе коэффициента вариации и отношения «доходность/риск», издательство А представляется как менее рискованный вариант. Несмотря на то, что ожидаемая прибыль от издательства Б выше, издательство А предлагает более стабильный доход с меньшим риском.\n",
        "7.   **Сравнение результатов решения задач 3 и 6**:\n",
        "    \n",
        "    *   С учетом измененных вероятностей, издательство Б остается более выгодным вариантом с точки зрения максимальной ожидаемой прибыли. Однако, если учитывать риск и стабильность доходов, издательство А может быть предпочтительным из-за более низкого коэффициента вариации и высокого отношения «доходность/риск».\n",
        "    \n",
        "С изменением вероятностей, общая ожидаемая прибыль у обоих издательств увеличилась, однако издательство Б продолжает предлагать более высокую прибыль, хотя с более высоким уровнем риска. Это подчеркивает важность оценки вероятностных распределений при принятии решений, связанных с доходностью и риском.\n"
      ],
      "metadata": {
        "id": "kEywW5fLoT1y"
      }
    }
  ]
}