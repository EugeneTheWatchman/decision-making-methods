{
 "cells": [
  {
   "cell_type": "markdown",
   "metadata": {},
   "source": [
    "# Импорт библиотек"
   ]
  },
  {
   "cell_type": "code",
   "execution_count": 1,
   "metadata": {},
   "outputs": [],
   "source": [
    "import pandas as pd\n",
    "import sys\n",
    "if sys.version_info[0] < 3: \n",
    "    from StringIO import StringIO\n",
    "else:\n",
    "    from io import StringIO\n",
    "import numpy as np\n",
    "import matplotlib.pyplot as plt\n",
    "from scipy.stats import chi2\n",
    "\n",
    "from sklearn.linear_model import LinearRegression\n",
    "from sklearn.metrics import mean_squared_error, r2_score\n",
    "\n",
    "from sklearn.linear_model import LinearRegression\n",
    "from sklearn.feature_selection import SequentialFeatureSelector\n",
    "from mlxtend.feature_selection import SequentialFeatureSelector as SequentialFeatureSelector_mlx\n",
    "from sklearn.feature_selection import SelectFromModel\n"
   ]
  },
  {
   "cell_type": "markdown",
   "metadata": {},
   "source": [
    "# Загрузка и подготовка данных. Вариант 5"
   ]
  },
  {
   "cell_type": "code",
   "execution_count": 2,
   "metadata": {},
   "outputs": [
    {
     "data": {
      "text/html": [
       "<div>\n",
       "<style scoped>\n",
       "    .dataframe tbody tr th:only-of-type {\n",
       "        vertical-align: middle;\n",
       "    }\n",
       "\n",
       "    .dataframe tbody tr th {\n",
       "        vertical-align: top;\n",
       "    }\n",
       "\n",
       "    .dataframe thead th {\n",
       "        text-align: right;\n",
       "    }\n",
       "</style>\n",
       "<table border=\"1\" class=\"dataframe\">\n",
       "  <thead>\n",
       "    <tr style=\"text-align: right;\">\n",
       "      <th></th>\n",
       "      <th>Победы</th>\n",
       "      <th>E.R.A.</th>\n",
       "      <th>Пропущенные удары</th>\n",
       "      <th>Защита</th>\n",
       "    </tr>\n",
       "    <tr>\n",
       "      <th>Команда</th>\n",
       "      <th></th>\n",
       "      <th></th>\n",
       "      <th></th>\n",
       "      <th></th>\n",
       "    </tr>\n",
       "  </thead>\n",
       "  <tbody>\n",
       "    <tr>\n",
       "      <th>Anaheim</th>\n",
       "      <td>99</td>\n",
       "      <td>3.69</td>\n",
       "      <td>1345</td>\n",
       "      <td>54</td>\n",
       "    </tr>\n",
       "    <tr>\n",
       "      <th>Baltimore</th>\n",
       "      <td>67</td>\n",
       "      <td>4.46</td>\n",
       "      <td>1491</td>\n",
       "      <td>31</td>\n",
       "    </tr>\n",
       "    <tr>\n",
       "      <th>Boston</th>\n",
       "      <td>93</td>\n",
       "      <td>3.75</td>\n",
       "      <td>1339</td>\n",
       "      <td>51</td>\n",
       "    </tr>\n",
       "    <tr>\n",
       "      <th>Chicago White Sox</th>\n",
       "      <td>81</td>\n",
       "      <td>4.53</td>\n",
       "      <td>1422</td>\n",
       "      <td>35</td>\n",
       "    </tr>\n",
       "    <tr>\n",
       "      <th>Cleveland</th>\n",
       "      <td>74</td>\n",
       "      <td>4.91</td>\n",
       "      <td>1508</td>\n",
       "      <td>34</td>\n",
       "    </tr>\n",
       "  </tbody>\n",
       "</table>\n",
       "</div>"
      ],
      "text/plain": [
       "                   Победы  E.R.A.  Пропущенные удары  Защита\n",
       "Команда                                                     \n",
       "Anaheim                99    3.69               1345      54\n",
       "Baltimore              67    4.46               1491      31\n",
       "Boston                 93    3.75               1339      51\n",
       "Chicago White Sox      81    4.53               1422      35\n",
       "Cleveland              74    4.91               1508      34"
      ]
     },
     "execution_count": 2,
     "metadata": {},
     "output_type": "execute_result"
    }
   ],
   "source": [
    "data = StringIO('''Команда;Победы;E.R.A.;Пропущенные удары;Защита\n",
    "Anaheim; 99; 3.69; 1345; 54\n",
    "Baltimore; 67; 4.46; 1491; 31\n",
    "Boston; 93; 3.75; 1339; 51\n",
    "Chicago White Sox; 81; 4.53; 1422; 35\n",
    "Cleveland; 74; 4.91; 1508; 34\n",
    "Detroit; 55; 4.93; 1593; 33\n",
    "Kansas City; 62; 5.21; 1587; 30\n",
    "Minnesota; 94; 4.12; 1454; 47\n",
    "New York Yankees; 103; 3.87; 1441; 53\n",
    "Oakland; 103; 3.68; 1391; 48\n",
    "Seattle; 93; 4.07; 1422; 43\n",
    "Tampa Bay; 55; 5.29; 1567; 25\n",
    "Texas; 72; 5.15; 1528; 33\n",
    "Toronto; 78; 4.8; 1504; 41\n",
    "Arizona; 98; 3.92; 1361; 40\n",
    "Atlanta; 101; 3.13; 1302; 57\n",
    "Chicago Cubs; 67; 4.29; 1373; 23\n",
    "Cincinnati; 78; 4.27; 1502; 42\n",
    "Colorado; 73; 5.2; 1554; 43\n",
    "Florida; 79; 4.36; 1449; 36\n",
    "Houston; 84; 4; 1423; 43\n",
    "Los Angeles; 92; 3.69; 1311; 56\n",
    "Milwaukee; 56; 4.73; 1468; 32\n",
    "Montreal; 83; 3.97; 1475; 39\n",
    "New York Mets; 75; 3.89; 1408; 36\n",
    "Philadelphia; 80; 4.17; 1381; 47\n",
    "Pittsburgh; 72; 4.23; 1447; 47\n",
    "St. Louis; 97; 3.7; 1355; 42\n",
    "San Diego; 66; 4.62; 1522; 40\n",
    "San Francisco; 95; 3.54; 1349; 43\n",
    "''')\n",
    "\n",
    "df = pd.read_csv(data, sep=';', index_col='Команда')\n",
    "df.head()"
   ]
  },
  {
   "cell_type": "code",
   "execution_count": 3,
   "metadata": {},
   "outputs": [
    {
     "data": {
      "text/html": [
       "<div>\n",
       "<style scoped>\n",
       "    .dataframe tbody tr th:only-of-type {\n",
       "        vertical-align: middle;\n",
       "    }\n",
       "\n",
       "    .dataframe tbody tr th {\n",
       "        vertical-align: top;\n",
       "    }\n",
       "\n",
       "    .dataframe thead th {\n",
       "        text-align: right;\n",
       "    }\n",
       "</style>\n",
       "<table border=\"1\" class=\"dataframe\">\n",
       "  <thead>\n",
       "    <tr style=\"text-align: right;\">\n",
       "      <th></th>\n",
       "      <th>Победы</th>\n",
       "      <th>E.R.A.</th>\n",
       "      <th>Пропущенные удары</th>\n",
       "      <th>Защита</th>\n",
       "    </tr>\n",
       "  </thead>\n",
       "  <tbody>\n",
       "    <tr>\n",
       "      <th>Победы</th>\n",
       "      <td>1.000000</td>\n",
       "      <td>-0.822721</td>\n",
       "      <td>-0.749884</td>\n",
       "      <td>0.783992</td>\n",
       "    </tr>\n",
       "    <tr>\n",
       "      <th>E.R.A.</th>\n",
       "      <td>-0.822721</td>\n",
       "      <td>1.000000</td>\n",
       "      <td>0.893497</td>\n",
       "      <td>-0.703790</td>\n",
       "    </tr>\n",
       "    <tr>\n",
       "      <th>Пропущенные удары</th>\n",
       "      <td>-0.749884</td>\n",
       "      <td>0.893497</td>\n",
       "      <td>1.000000</td>\n",
       "      <td>-0.598100</td>\n",
       "    </tr>\n",
       "    <tr>\n",
       "      <th>Защита</th>\n",
       "      <td>0.783992</td>\n",
       "      <td>-0.703790</td>\n",
       "      <td>-0.598100</td>\n",
       "      <td>1.000000</td>\n",
       "    </tr>\n",
       "  </tbody>\n",
       "</table>\n",
       "</div>"
      ],
      "text/plain": [
       "                     Победы    E.R.A.  Пропущенные удары    Защита\n",
       "Победы             1.000000 -0.822721          -0.749884  0.783992\n",
       "E.R.A.            -0.822721  1.000000           0.893497 -0.703790\n",
       "Пропущенные удары -0.749884  0.893497           1.000000 -0.598100\n",
       "Защита             0.783992 -0.703790          -0.598100  1.000000"
      ]
     },
     "execution_count": 3,
     "metadata": {},
     "output_type": "execute_result"
    }
   ],
   "source": [
    "df.corr()"
   ]
  },
  {
   "cell_type": "markdown",
   "metadata": {},
   "source": [
    "# Обозначаем независимые и зависимый столбцы"
   ]
  },
  {
   "cell_type": "code",
   "execution_count": 4,
   "metadata": {},
   "outputs": [
    {
     "data": {
      "text/html": [
       "<div>\n",
       "<style scoped>\n",
       "    .dataframe tbody tr th:only-of-type {\n",
       "        vertical-align: middle;\n",
       "    }\n",
       "\n",
       "    .dataframe tbody tr th {\n",
       "        vertical-align: top;\n",
       "    }\n",
       "\n",
       "    .dataframe thead th {\n",
       "        text-align: right;\n",
       "    }\n",
       "</style>\n",
       "<table border=\"1\" class=\"dataframe\">\n",
       "  <thead>\n",
       "    <tr style=\"text-align: right;\">\n",
       "      <th></th>\n",
       "      <th>yi</th>\n",
       "      <th>xi1</th>\n",
       "      <th>xi2</th>\n",
       "      <th>xi3</th>\n",
       "    </tr>\n",
       "    <tr>\n",
       "      <th>Команда</th>\n",
       "      <th></th>\n",
       "      <th></th>\n",
       "      <th></th>\n",
       "      <th></th>\n",
       "    </tr>\n",
       "  </thead>\n",
       "  <tbody>\n",
       "    <tr>\n",
       "      <th>Anaheim</th>\n",
       "      <td>99</td>\n",
       "      <td>3.69</td>\n",
       "      <td>1345</td>\n",
       "      <td>54</td>\n",
       "    </tr>\n",
       "    <tr>\n",
       "      <th>Baltimore</th>\n",
       "      <td>67</td>\n",
       "      <td>4.46</td>\n",
       "      <td>1491</td>\n",
       "      <td>31</td>\n",
       "    </tr>\n",
       "    <tr>\n",
       "      <th>Boston</th>\n",
       "      <td>93</td>\n",
       "      <td>3.75</td>\n",
       "      <td>1339</td>\n",
       "      <td>51</td>\n",
       "    </tr>\n",
       "    <tr>\n",
       "      <th>Chicago White Sox</th>\n",
       "      <td>81</td>\n",
       "      <td>4.53</td>\n",
       "      <td>1422</td>\n",
       "      <td>35</td>\n",
       "    </tr>\n",
       "    <tr>\n",
       "      <th>Cleveland</th>\n",
       "      <td>74</td>\n",
       "      <td>4.91</td>\n",
       "      <td>1508</td>\n",
       "      <td>34</td>\n",
       "    </tr>\n",
       "  </tbody>\n",
       "</table>\n",
       "</div>"
      ],
      "text/plain": [
       "                   yi   xi1   xi2  xi3\n",
       "Команда                               \n",
       "Anaheim            99  3.69  1345   54\n",
       "Baltimore          67  4.46  1491   31\n",
       "Boston             93  3.75  1339   51\n",
       "Chicago White Sox  81  4.53  1422   35\n",
       "Cleveland          74  4.91  1508   34"
      ]
     },
     "execution_count": 4,
     "metadata": {},
     "output_type": "execute_result"
    }
   ],
   "source": [
    "df.columns\n",
    "df.rename(columns={\n",
    "    'E.R.A.':           'xi1',\n",
    "    'Пропущенные удары':'xi2',\n",
    "    'Защита':           'xi3',\n",
    "    'Победы':           'yi'\n",
    "}, inplace=True)\n",
    "df.head()"
   ]
  },
  {
   "cell_type": "markdown",
   "metadata": {},
   "source": [
    "# Строим модель линейной множественной регрессии"
   ]
  },
  {
   "cell_type": "code",
   "execution_count": 5,
   "metadata": {
    "colab": {
     "base_uri": "https://localhost:8080/"
    },
    "id": "aEMFrFrcVDk1",
    "outputId": "d1d3efa3-3e3d-4d95-a893-949cff8b2d6e"
   },
   "outputs": [
    {
     "data": {
      "text/plain": [
       "(49.6899614701074,\n",
       " 0.7638372174208715,\n",
       " array([-10.68768688,  -0.02455932,   0.69903852]),\n",
       " 133.3982792813986)"
      ]
     },
     "execution_count": 5,
     "metadata": {},
     "output_type": "execute_result"
    }
   ],
   "source": [
    "# Определяем зависимую переменную (yi) и независимые переменные (xi1, xi2, xi3, xi4, xi5)\n",
    "Y = df['yi']\n",
    "X = df[['xi1', 'xi2', 'xi3']]\n",
    "\n",
    "# Создаем модель линейной регрессии\n",
    "model = LinearRegression()\n",
    "\n",
    "# Обучаем модель\n",
    "model.fit(X, Y)\n",
    "\n",
    "# Получаем предсказания модели\n",
    "predictions = model.predict(X)\n",
    "\n",
    "# Оцениваем адекватность модели\n",
    "mse = mean_squared_error(Y, predictions)\n",
    "r2 = r2_score(Y, predictions)\n",
    "\n",
    "# Коэффициенты модели\n",
    "coefficients = model.coef_\n",
    "intercept = model.intercept_\n",
    "\n",
    "(mse, r2, coefficients, intercept)"
   ]
  },
  {
   "cell_type": "markdown",
   "metadata": {
    "id": "eA7Bu1iHWN1K"
   },
   "source": [
    "Результаты, которые вы предоставили, представляют собой параметры модели линейной множественной регрессии, построенной на основе ваших данных. Давайте проанализируем их:\n",
    "\n",
    "1.  **Среднеквадратичная ошибка (MSE)**: Значение MSE равно 49.7. Это показатель ошибки модели, который измеряет среднюю разницу между фактическими значениями и предсказаниями модели. Чем меньше значение MSE, тем лучше модель предсказывает результаты. В вашем случае, MSE относительно высокое, но для полной оценки необходимо сравнить его с диапазоном значений зависимой переменной (yi).\n",
    "    \n",
    "2.  **Коэффициент детерминации (R²)**: Значение R² равно 0.76. Этот коэффициент показывает, какая доля изменчивости зависимой переменной объясняется независимыми переменными модели. В данном случае, около 76% вариативности суммы продаж можно объяснить через выбранные факторы. Это незначительная доля.\n",
    "    \n",
    "3.  **Коэффициенты модели**: Массив коэффициентов \\[-10.7,  -0.025,   0.7\\] соответствует влиянию каждого из факторов xi1, xi2, xi3 (E.R.A., Пропущенные удары, Защита)соответственно.\n",
    "\n",
    "4.  **Константа (intercept)**: Значение константы 133 представляет собой ожидаемое значение кол-ва побед в сезоне, когда все независимые переменные равны нулю. Она служит начальной точкой для линейного уравнения.\n",
    "\n",
    "### Выводы:\n",
    "\n",
    "*   Модель демонстрирует низкую способность объяснять изменения урожайности зерновых культур, так как R² составляет около 76%.\n",
    "*   Отрицательные коэффициенты у некоторых переменных говорят о том, что увеличение этих факторов может негативно сказаться победах. (например E.R.A.)"
   ]
  },
  {
   "cell_type": "markdown",
   "metadata": {},
   "source": [
    "# Вычиление и анализ матрицы корреляций для незасимых переменных"
   ]
  },
  {
   "cell_type": "code",
   "execution_count": 6,
   "metadata": {
    "colab": {
     "base_uri": "https://localhost:8080/"
    },
    "id": "ozqB8jLBXDES",
    "outputId": "a805465e-4c1c-43de-dd9c-2bc42997c1d0"
   },
   "outputs": [
    {
     "data": {
      "text/html": [
       "<div>\n",
       "<style scoped>\n",
       "    .dataframe tbody tr th:only-of-type {\n",
       "        vertical-align: middle;\n",
       "    }\n",
       "\n",
       "    .dataframe tbody tr th {\n",
       "        vertical-align: top;\n",
       "    }\n",
       "\n",
       "    .dataframe thead th {\n",
       "        text-align: right;\n",
       "    }\n",
       "</style>\n",
       "<table border=\"1\" class=\"dataframe\">\n",
       "  <thead>\n",
       "    <tr style=\"text-align: right;\">\n",
       "      <th></th>\n",
       "      <th>xi1</th>\n",
       "      <th>xi2</th>\n",
       "      <th>xi3</th>\n",
       "    </tr>\n",
       "  </thead>\n",
       "  <tbody>\n",
       "    <tr>\n",
       "      <th>xi1</th>\n",
       "      <td>1.000000</td>\n",
       "      <td>0.893497</td>\n",
       "      <td>-0.70379</td>\n",
       "    </tr>\n",
       "    <tr>\n",
       "      <th>xi2</th>\n",
       "      <td>0.893497</td>\n",
       "      <td>1.000000</td>\n",
       "      <td>-0.59810</td>\n",
       "    </tr>\n",
       "    <tr>\n",
       "      <th>xi3</th>\n",
       "      <td>-0.703790</td>\n",
       "      <td>-0.598100</td>\n",
       "      <td>1.00000</td>\n",
       "    </tr>\n",
       "  </tbody>\n",
       "</table>\n",
       "</div>"
      ],
      "text/plain": [
       "          xi1       xi2      xi3\n",
       "xi1  1.000000  0.893497 -0.70379\n",
       "xi2  0.893497  1.000000 -0.59810\n",
       "xi3 -0.703790 -0.598100  1.00000"
      ]
     },
     "metadata": {},
     "output_type": "display_data"
    },
    {
     "data": {
      "text/plain": [
       "(0.10083013558473748, 62.328972439050794, 7.814727903251179, True)"
      ]
     },
     "execution_count": 6,
     "metadata": {},
     "output_type": "execute_result"
    }
   ],
   "source": [
    "\n",
    "# Вычисляем матрицу корреляций для объясняющих переменных\n",
    "RXX = X.corr()\n",
    "\n",
    "# Вычисляем определитель матрицы корреляций\n",
    "det_RXX = np.linalg.det(RXX)\n",
    "\n",
    "# Проверяем гипотезу о наличии мультиколлинеарности\n",
    "# Степени свободы для хи-квадрат распределения\n",
    "Df = len(X.columns) * (len(X.columns) - 1) / 2\n",
    "\n",
    "# Вычисляем статистику теста\n",
    "chi2_stat = -((len(X) - 1) - (2 * len(X.columns) + 5) / 6) * np.log(det_RXX)\n",
    "\n",
    "# Вычисляем критическое значение для хи-квадрат распределения с уровнем значимости 0.05\n",
    "chi2_critical = chi2.ppf(0.95, Df)\n",
    "\n",
    "display(RXX)\n",
    "(det_RXX, chi2_stat, chi2_critical, chi2_stat > chi2_critical)"
   ]
  },
  {
   "cell_type": "markdown",
   "metadata": {
    "id": "F3Ybt1tTXjUL"
   },
   "source": [
    "Результаты вывода включают в себя, по проядку: матрицу выборочных парных коэффициентов корреляции (RXX) между объясняющими переменными, определитель этой матрицы, статистику хи-квадрат, критическое значение хи-квадрат при уровне значимости 0.05, и логическое значение, указывающее на наличие или отсутствие мультиколлинеарности. Давайте проанализируем эти результаты:\n",
    "\n",
    "### Анализ матрицы корреляций (RXX):\n",
    "\n",
    "*   Высокие значения корреляции наблюдаются между некоторыми переменными, особенно между xi1 и xi2. Это указывает на сильную линейную зависимость между этими парами переменных.\n",
    "\n",
    "### Анализ определителя матрицы корреляций:\n",
    "\n",
    "*   Определитель матрицы RXX равен 0.1, что очень близко к нулю. Это говорит о том, что матрица корреляций почти вырождена, что является признаком мультиколлинеарности.\n",
    "\n",
    "### Анализ хи-квадрат статистики:\n",
    "\n",
    "*   Статистика хи-квадрат равна 62, что выше критического значения при уровне значимости 0.05.\n",
    "*   Так как статистическое значение больше критического, мы принимаем гипотезу о наличии мультиколлинеарности.\n",
    "\n",
    "### Выводы:\n",
    "\n",
    "*   На основе представленных данных можно сделать вывод, что в модели присутствует мультиколлинеарность. Это означает, что некоторые объясняющие переменные сильно коррелированы друг с другом, что может привести к проблемам в оценке коэффициентов регрессии и их интерпретации.\n",
    "*   Для улучшения модели следует рассмотреть возможность исключения одной или нескольких переменных, которые сильно коррелированы с другими, или использовать методы, устойчивые к мультиколлинеарности, такие как гребневая регрессия (ridge regression)."
   ]
  },
  {
   "cell_type": "markdown",
   "metadata": {},
   "source": [
    "# Анализ значимых незасимых переменных тремя разными методами. Выбор наиболее подходящих для устранения или уменьшения мультиколлинеарности"
   ]
  },
  {
   "cell_type": "code",
   "execution_count": 7,
   "metadata": {
    "colab": {
     "base_uri": "https://localhost:8080/",
     "height": 641
    },
    "id": "jb1rtb7yXnXW",
    "outputId": "e39f2b9e-afd5-4ca2-bb0b-10e00c0a96a7"
   },
   "outputs": [
    {
     "data": {
      "text/html": [
       "<div>\n",
       "<style scoped>\n",
       "    .dataframe tbody tr th:only-of-type {\n",
       "        vertical-align: middle;\n",
       "    }\n",
       "\n",
       "    .dataframe tbody tr th {\n",
       "        vertical-align: top;\n",
       "    }\n",
       "\n",
       "    .dataframe thead th {\n",
       "        text-align: right;\n",
       "    }\n",
       "</style>\n",
       "<table border=\"1\" class=\"dataframe\">\n",
       "  <thead>\n",
       "    <tr style=\"text-align: right;\">\n",
       "      <th></th>\n",
       "      <th>yi</th>\n",
       "      <th>xi1</th>\n",
       "      <th>xi2</th>\n",
       "      <th>xi3</th>\n",
       "    </tr>\n",
       "  </thead>\n",
       "  <tbody>\n",
       "    <tr>\n",
       "      <th>yi</th>\n",
       "      <td>1.000000</td>\n",
       "      <td>-0.822721</td>\n",
       "      <td>-0.749884</td>\n",
       "      <td>0.783992</td>\n",
       "    </tr>\n",
       "    <tr>\n",
       "      <th>xi1</th>\n",
       "      <td>-0.822721</td>\n",
       "      <td>1.000000</td>\n",
       "      <td>0.893497</td>\n",
       "      <td>-0.703790</td>\n",
       "    </tr>\n",
       "    <tr>\n",
       "      <th>xi2</th>\n",
       "      <td>-0.749884</td>\n",
       "      <td>0.893497</td>\n",
       "      <td>1.000000</td>\n",
       "      <td>-0.598100</td>\n",
       "    </tr>\n",
       "    <tr>\n",
       "      <th>xi3</th>\n",
       "      <td>0.783992</td>\n",
       "      <td>-0.703790</td>\n",
       "      <td>-0.598100</td>\n",
       "      <td>1.000000</td>\n",
       "    </tr>\n",
       "  </tbody>\n",
       "</table>\n",
       "</div>"
      ],
      "text/plain": [
       "           yi       xi1       xi2       xi3\n",
       "yi   1.000000 -0.822721 -0.749884  0.783992\n",
       "xi1 -0.822721  1.000000  0.893497 -0.703790\n",
       "xi2 -0.749884  0.893497  1.000000 -0.598100\n",
       "xi3  0.783992 -0.703790 -0.598100  1.000000"
      ]
     },
     "metadata": {},
     "output_type": "display_data"
    },
    {
     "name": "stdout",
     "output_type": "stream",
     "text": [
      "Выбранные фичи (Select From Model): ['xi1']\n",
      "Выбранные фичи (Sequential Feature Selector): ['xi1']\n",
      "Выбранные фичи (Sequential Feature Selector) mlx model: ('xi1', 'xi3')\n"
     ]
    },
    {
     "data": {
      "image/png": "[encoded data removed]",
      "text/plain": [
       "<Figure size 1400x700 with 1 Axes>"
      ]
     },
     "metadata": {},
     "output_type": "display_data"
    }
   ],
   "source": [
    "display(df.corr())\n",
    "\n",
    "# Определяем независимые переменные (X) и зависимую переменную (y)\n",
    "X = df[['xi1', 'xi2', 'xi3']]\n",
    "y = df[\"yi\"]\n",
    "\n",
    "# Настраиваем Select From Model\n",
    "sfm = SelectFromModel(model).fit(X, y)\n",
    "X_new = sfm.transform(X)\n",
    "\n",
    "print(f'Выбранные фичи (Select From Model): {sfm.get_feature_names_out()}')\n",
    "\n",
    "\n",
    "sfs = SequentialFeatureSelector(LinearRegression(),\n",
    "          n_features_to_select='auto',\n",
    "          direction ='forward').fit(X,y)\n",
    "\n",
    "print(f'Выбранные фичи (Sequential Feature Selector): {sfs.get_feature_names_out()}')\n",
    "\n",
    "sfs_mlx = SequentialFeatureSelector_mlx(LinearRegression(),\n",
    "          k_features='best', forward=False).fit(X,y)\n",
    "print(f'Выбранные фичи (Sequential Feature Selector) mlx model: {sfs_mlx.k_feature_names_}')\n",
    "\n",
    "\n",
    "\n",
    "# Получаем результаты\n",
    "stepwise_r2_results = sfs_mlx.subsets_\n",
    "\n",
    "# Извлекаем R^2 для каждого шага\n",
    "r2_per_step = [stepwise_r2_results[i]['avg_score'] for i in stepwise_r2_results.keys()]\n",
    "r2_min_at_steps = [min(r2_per_step[:i+1]) for i in range(len(r2_per_step))]\n",
    "\n",
    "# Добавляем начальный шаг, где R^2 равен нулю\n",
    "r2_per_step = [0] + r2_per_step\n",
    "r2_min_at_steps = [0] + r2_min_at_steps\n",
    "\n",
    "# Теперь строим графики R^2 и минимальных значений R^2 на каждом шаге\n",
    "steps = list(range(len(r2_per_step)))\n",
    "\n",
    "plt.figure(figsize=(14, 7))\n",
    "\n",
    "# Строим график R^2 на каждом шаге\n",
    "plt.plot(steps, r2_per_step, 'o-', label='Stepwise R^2')\n",
    "\n",
    "# Строим график минимальных значений R^2 на каждом шаге\n",
    "plt.plot(steps, r2_min_at_steps, 's-', label='Minimal R^2')\n",
    "\n",
    "# Добавляем метки и заголовок\n",
    "plt.xlabel('Step number (l)')\n",
    "plt.ylabel('R^2 value')\n",
    "plt.title('Stepwise R^2 and Minimal R^2 at each step')\n",
    "plt.legend()\n",
    "plt.grid(True)\n",
    "plt.show()"
   ]
  },
  {
   "cell_type": "markdown",
   "metadata": {},
   "source": [
    "# выбираем независимые параметры 'xi1', 'xi3'"
   ]
  },
  {
   "cell_type": "code",
   "execution_count": 8,
   "metadata": {
    "colab": {
     "base_uri": "https://localhost:8080/"
    },
    "id": "nc4g2ZHDdylK",
    "outputId": "9fc6582a-0e25-4155-8645-152f214ddc90"
   },
   "outputs": [
    {
     "data": {
      "text/plain": [
       "(0.7601158216140617,\n",
       " array([58.65248418, 44.66007448]),\n",
       " array([2.42012186e-08, 2.97557214e-07]))"
      ]
     },
     "execution_count": 8,
     "metadata": {},
     "output_type": "execute_result"
    }
   ],
   "source": [
    "# Обучение модели линейной регрессии с использованием отобранных переменных\n",
    "# Предполагаем, что все переменные отобраны, так как не указаны конкретные отобранные предикторы\n",
    "\n",
    "X = sfs_mlx.transform(X)\n",
    "y = df[\"yi\"]\n",
    "\n",
    "\n",
    "# Создание модели линейной регрессии\n",
    "lr_final = LinearRegression()\n",
    "\n",
    "# Обучение модели на данных\n",
    "lr_final.fit(X, y)\n",
    "\n",
    "# Получение коэффициента детерминации R^2 для оценки адекватности модели\n",
    "r2_score_final = lr_final.score(X, y)\n",
    "\n",
    "# Вычисление прогнозов для оценки модели\n",
    "y_pred = lr_final.predict(X)\n",
    "\n",
    "# Оценка адекватности модели также может включать F-тест\n",
    "from sklearn.feature_selection import f_regression\n",
    "\n",
    "# Получение F-статистики и соответствующих p-значений\n",
    "f_statistic, p_values = f_regression(X, y)\n",
    "\n",
    "# Вывод результата\n",
    "r2_score_final, f_statistic, p_values\n"
   ]
  },
  {
   "cell_type": "markdown",
   "metadata": {
    "id": "GWRihRpjdz9n"
   },
   "source": [
    "Для построения выборочного уравнения линейной множественной регрессии с использованием только отобранных предикторов, нужно выполнить следующие шаги:\n",
    "\n",
    "1.  Создать модель линейной регрессии на основе выбранных переменных.\n",
    "2.  Обучить модель на данных.\n",
    "3.  Оценить адекватность модели, рассчитав коэффициент детерминации R2R^2R2 и, возможно, другие статистики, такие как F-статистику.\n",
    "4.  Сделать выводы на основе полученных оценок адекватности.\n",
    "\n",
    "В предыдущих шагах мы уже отобрали переменные и создали модель регрессии. Теперь можно использовать эти переменные для построения окончательной регрессионной модели и оценки её адекватности.\n",
    "\n",
    "F-статистика и соответствующие p-значения для каждого предиктора следующие:\n",
    "\n",
    "*   xi1: F-статистика = 58.7, p-значение = 0\n",
    "*   xi3: F-статистика = 44.7, p-значение = 0\n",
    "\n",
    "**Вывод:** P-значения указывают на статистическую значимость коэффициентов при уровне значимости 0.05. По этим данным можно увидеть, что предикторы xi1 и xi3 являются статистически значимыми, так как их p-значение меньше 0.05.\n",
    "\n",
    "Важно отметить, что F-тест в целом проверяет, значимо ли отличается коэффициент регрессии от нуля для всей модели, а не для каждого предиктора в отдельности. Для более точного анализа значимости отдельных предикторов следует рассмотреть t-тесты коэффициентов регрессии.\n"
   ]
  }
 ],
 "metadata": {
  "colab": {
   "provenance": []
  },
  "kernelspec": {
   "display_name": "Python 3 (ipykernel)",
   "language": "python",
   "name": "python3"
  },
  "language_info": {
   "codemirror_mode": {
    "name": "ipython",
    "version": 3
   },
   "file_extension": ".py",
   "mimetype": "text/x-python",
   "name": "python",
   "nbconvert_exporter": "python",
   "pygments_lexer": "ipython3",
   "version": "3.11.1"
  }
 },
 "nbformat": 4,
 "nbformat_minor": 1
}
