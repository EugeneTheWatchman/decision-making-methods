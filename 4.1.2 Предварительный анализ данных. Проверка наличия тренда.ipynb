{
  "nbformat": 4,
  "nbformat_minor": 0,
  "metadata": {
    "colab": {
      "provenance": []
    },
    "kernelspec": {
      "name": "python3",
      "display_name": "Python 3"
    },
    "language_info": {
      "name": "python"
    }
  },
  "cells": [
    {
      "cell_type": "markdown",
      "source": [
        "#Предварительный анализ данных. Проверка наличия тренда"
      ],
      "metadata": {
        "id": "WK-D5IbSjaZD"
      }
    },
    {
      "cell_type": "code",
      "execution_count": 2,
      "metadata": {
        "colab": {
          "base_uri": "https://localhost:8080/",
          "height": 520
        },
        "id": "55saTa9LsWQL",
        "outputId": "f461f078-22dd-4b03-eac9-e5290735de93"
      },
      "outputs": [
        {
          "output_type": "execute_result",
          "data": {
            "text/plain": [
              "    Год  Урожайность ячменя\n",
              "0     1                14.1\n",
              "1     2                 9.3\n",
              "2     3                19.4\n",
              "3     4                19.7\n",
              "4     5                 5.4\n",
              "5     6                24.2\n",
              "6     7                13.8\n",
              "7     8                24.5\n",
              "8     9                14.7\n",
              "9    10                16.6\n",
              "10   11                 5.6\n",
              "11   12                16.2\n",
              "12   13                25.3\n",
              "13   14                11.9\n",
              "14   15                18.5"
            ],
            "text/html": [
              "\n",
              "  <div id=\"df-18587fc0-9867-4676-a7a3-171767ab6caa\" class=\"colab-df-container\">\n",
              "    <div>\n",
              "<style scoped>\n",
              "    .dataframe tbody tr th:only-of-type {\n",
              "        vertical-align: middle;\n",
              "    }\n",
              "\n",
              "    .dataframe tbody tr th {\n",
              "        vertical-align: top;\n",
              "    }\n",
              "\n",
              "    .dataframe thead th {\n",
              "        text-align: right;\n",
              "    }\n",
              "</style>\n",
              "<table border=\"1\" class=\"dataframe\">\n",
              "  <thead>\n",
              "    <tr style=\"text-align: right;\">\n",
              "      <th></th>\n",
              "      <th>Год</th>\n",
              "      <th>Урожайность ячменя</th>\n",
              "    </tr>\n",
              "  </thead>\n",
              "  <tbody>\n",
              "    <tr>\n",
              "      <th>0</th>\n",
              "      <td>1</td>\n",
              "      <td>14.1</td>\n",
              "    </tr>\n",
              "    <tr>\n",
              "      <th>1</th>\n",
              "      <td>2</td>\n",
              "      <td>9.3</td>\n",
              "    </tr>\n",
              "    <tr>\n",
              "      <th>2</th>\n",
              "      <td>3</td>\n",
              "      <td>19.4</td>\n",
              "    </tr>\n",
              "    <tr>\n",
              "      <th>3</th>\n",
              "      <td>4</td>\n",
              "      <td>19.7</td>\n",
              "    </tr>\n",
              "    <tr>\n",
              "      <th>4</th>\n",
              "      <td>5</td>\n",
              "      <td>5.4</td>\n",
              "    </tr>\n",
              "    <tr>\n",
              "      <th>5</th>\n",
              "      <td>6</td>\n",
              "      <td>24.2</td>\n",
              "    </tr>\n",
              "    <tr>\n",
              "      <th>6</th>\n",
              "      <td>7</td>\n",
              "      <td>13.8</td>\n",
              "    </tr>\n",
              "    <tr>\n",
              "      <th>7</th>\n",
              "      <td>8</td>\n",
              "      <td>24.5</td>\n",
              "    </tr>\n",
              "    <tr>\n",
              "      <th>8</th>\n",
              "      <td>9</td>\n",
              "      <td>14.7</td>\n",
              "    </tr>\n",
              "    <tr>\n",
              "      <th>9</th>\n",
              "      <td>10</td>\n",
              "      <td>16.6</td>\n",
              "    </tr>\n",
              "    <tr>\n",
              "      <th>10</th>\n",
              "      <td>11</td>\n",
              "      <td>5.6</td>\n",
              "    </tr>\n",
              "    <tr>\n",
              "      <th>11</th>\n",
              "      <td>12</td>\n",
              "      <td>16.2</td>\n",
              "    </tr>\n",
              "    <tr>\n",
              "      <th>12</th>\n",
              "      <td>13</td>\n",
              "      <td>25.3</td>\n",
              "    </tr>\n",
              "    <tr>\n",
              "      <th>13</th>\n",
              "      <td>14</td>\n",
              "      <td>11.9</td>\n",
              "    </tr>\n",
              "    <tr>\n",
              "      <th>14</th>\n",
              "      <td>15</td>\n",
              "      <td>18.5</td>\n",
              "    </tr>\n",
              "  </tbody>\n",
              "</table>\n",
              "</div>\n",
              "    <div class=\"colab-df-buttons\">\n",
              "\n",
              "  <div class=\"colab-df-container\">\n",
              "    <button class=\"colab-df-convert\" onclick=\"convertToInteractive('df-18587fc0-9867-4676-a7a3-171767ab6caa')\"\n",
              "            title=\"Convert this dataframe to an interactive table.\"\n",
              "            style=\"display:none;\">\n",
              "\n",
              "  <svg xmlns=\"http://www.w3.org/2000/svg\" height=\"24px\" viewBox=\"0 -960 960 960\">\n",
              "    <path d=\"M120-120v-720h720v720H120Zm60-500h600v-160H180v160Zm220 220h160v-160H400v160Zm0 220h160v-160H400v160ZM180-400h160v-160H180v160Zm440 0h160v-160H620v160ZM180-180h160v-160H180v160Zm440 0h160v-160H620v160Z\"/>\n",
              "  </svg>\n",
              "    </button>\n",
              "\n",
              "  <style>\n",
              "    .colab-df-container {\n",
              "      display:flex;\n",
              "      gap: 12px;\n",
              "    }\n",
              "\n",
              "    .colab-df-convert {\n",
              "      background-color: #E8F0FE;\n",
              "      border: none;\n",
              "      border-radius: 50%;\n",
              "      cursor: pointer;\n",
              "      display: none;\n",
              "      fill: #1967D2;\n",
              "      height: 32px;\n",
              "      padding: 0 0 0 0;\n",
              "      width: 32px;\n",
              "    }\n",
              "\n",
              "    .colab-df-convert:hover {\n",
              "      background-color: #E2EBFA;\n",
              "      box-shadow: 0px 1px 2px rgba(60, 64, 67, 0.3), 0px 1px 3px 1px rgba(60, 64, 67, 0.15);\n",
              "      fill: #174EA6;\n",
              "    }\n",
              "\n",
              "    .colab-df-buttons div {\n",
              "      margin-bottom: 4px;\n",
              "    }\n",
              "\n",
              "    [theme=dark] .colab-df-convert {\n",
              "      background-color: #3B4455;\n",
              "      fill: #D2E3FC;\n",
              "    }\n",
              "\n",
              "    [theme=dark] .colab-df-convert:hover {\n",
              "      background-color: #434B5C;\n",
              "      box-shadow: 0px 1px 3px 1px rgba(0, 0, 0, 0.15);\n",
              "      filter: drop-shadow(0px 1px 2px rgba(0, 0, 0, 0.3));\n",
              "      fill: #FFFFFF;\n",
              "    }\n",
              "  </style>\n",
              "\n",
              "    <script>\n",
              "      const buttonEl =\n",
              "        document.querySelector('#df-18587fc0-9867-4676-a7a3-171767ab6caa button.colab-df-convert');\n",
              "      buttonEl.style.display =\n",
              "        google.colab.kernel.accessAllowed ? 'block' : 'none';\n",
              "\n",
              "      async function convertToInteractive(key) {\n",
              "        const element = document.querySelector('#df-18587fc0-9867-4676-a7a3-171767ab6caa');\n",
              "        const dataTable =\n",
              "          await google.colab.kernel.invokeFunction('convertToInteractive',\n",
              "                                                    [key], {});\n",
              "        if (!dataTable) return;\n",
              "\n",
              "        const docLinkHtml = 'Like what you see? Visit the ' +\n",
              "          '<a target=\"_blank\" href=https://colab.research.google.com/notebooks/data_table.ipynb>data table notebook</a>'\n",
              "          + ' to learn more about interactive tables.';\n",
              "        element.innerHTML = '';\n",
              "        dataTable['output_type'] = 'display_data';\n",
              "        await google.colab.output.renderOutput(dataTable, element);\n",
              "        const docLink = document.createElement('div');\n",
              "        docLink.innerHTML = docLinkHtml;\n",
              "        element.appendChild(docLink);\n",
              "      }\n",
              "    </script>\n",
              "  </div>\n",
              "\n",
              "\n",
              "<div id=\"df-a7da9c0d-68f4-41e9-8cc9-696c56fb2f2f\">\n",
              "  <button class=\"colab-df-quickchart\" onclick=\"quickchart('df-a7da9c0d-68f4-41e9-8cc9-696c56fb2f2f')\"\n",
              "            title=\"Suggest charts\"\n",
              "            style=\"display:none;\">\n",
              "\n",
              "<svg xmlns=\"http://www.w3.org/2000/svg\" height=\"24px\"viewBox=\"0 0 24 24\"\n",
              "     width=\"24px\">\n",
              "    <g>\n",
              "        <path d=\"M19 3H5c-1.1 0-2 .9-2 2v14c0 1.1.9 2 2 2h14c1.1 0 2-.9 2-2V5c0-1.1-.9-2-2-2zM9 17H7v-7h2v7zm4 0h-2V7h2v10zm4 0h-2v-4h2v4z\"/>\n",
              "    </g>\n",
              "</svg>\n",
              "  </button>\n",
              "\n",
              "<style>\n",
              "  .colab-df-quickchart {\n",
              "      --bg-color: #E8F0FE;\n",
              "      --fill-color: #1967D2;\n",
              "      --hover-bg-color: #E2EBFA;\n",
              "      --hover-fill-color: #174EA6;\n",
              "      --disabled-fill-color: #AAA;\n",
              "      --disabled-bg-color: #DDD;\n",
              "  }\n",
              "\n",
              "  [theme=dark] .colab-df-quickchart {\n",
              "      --bg-color: #3B4455;\n",
              "      --fill-color: #D2E3FC;\n",
              "      --hover-bg-color: #434B5C;\n",
              "      --hover-fill-color: #FFFFFF;\n",
              "      --disabled-bg-color: #3B4455;\n",
              "      --disabled-fill-color: #666;\n",
              "  }\n",
              "\n",
              "  .colab-df-quickchart {\n",
              "    background-color: var(--bg-color);\n",
              "    border: none;\n",
              "    border-radius: 50%;\n",
              "    cursor: pointer;\n",
              "    display: none;\n",
              "    fill: var(--fill-color);\n",
              "    height: 32px;\n",
              "    padding: 0;\n",
              "    width: 32px;\n",
              "  }\n",
              "\n",
              "  .colab-df-quickchart:hover {\n",
              "    background-color: var(--hover-bg-color);\n",
              "    box-shadow: 0 1px 2px rgba(60, 64, 67, 0.3), 0 1px 3px 1px rgba(60, 64, 67, 0.15);\n",
              "    fill: var(--button-hover-fill-color);\n",
              "  }\n",
              "\n",
              "  .colab-df-quickchart-complete:disabled,\n",
              "  .colab-df-quickchart-complete:disabled:hover {\n",
              "    background-color: var(--disabled-bg-color);\n",
              "    fill: var(--disabled-fill-color);\n",
              "    box-shadow: none;\n",
              "  }\n",
              "\n",
              "  .colab-df-spinner {\n",
              "    border: 2px solid var(--fill-color);\n",
              "    border-color: transparent;\n",
              "    border-bottom-color: var(--fill-color);\n",
              "    animation:\n",
              "      spin 1s steps(1) infinite;\n",
              "  }\n",
              "\n",
              "  @keyframes spin {\n",
              "    0% {\n",
              "      border-color: transparent;\n",
              "      border-bottom-color: var(--fill-color);\n",
              "      border-left-color: var(--fill-color);\n",
              "    }\n",
              "    20% {\n",
              "      border-color: transparent;\n",
              "      border-left-color: var(--fill-color);\n",
              "      border-top-color: var(--fill-color);\n",
              "    }\n",
              "    30% {\n",
              "      border-color: transparent;\n",
              "      border-left-color: var(--fill-color);\n",
              "      border-top-color: var(--fill-color);\n",
              "      border-right-color: var(--fill-color);\n",
              "    }\n",
              "    40% {\n",
              "      border-color: transparent;\n",
              "      border-right-color: var(--fill-color);\n",
              "      border-top-color: var(--fill-color);\n",
              "    }\n",
              "    60% {\n",
              "      border-color: transparent;\n",
              "      border-right-color: var(--fill-color);\n",
              "    }\n",
              "    80% {\n",
              "      border-color: transparent;\n",
              "      border-right-color: var(--fill-color);\n",
              "      border-bottom-color: var(--fill-color);\n",
              "    }\n",
              "    90% {\n",
              "      border-color: transparent;\n",
              "      border-bottom-color: var(--fill-color);\n",
              "    }\n",
              "  }\n",
              "</style>\n",
              "\n",
              "  <script>\n",
              "    async function quickchart(key) {\n",
              "      const quickchartButtonEl =\n",
              "        document.querySelector('#' + key + ' button');\n",
              "      quickchartButtonEl.disabled = true;  // To prevent multiple clicks.\n",
              "      quickchartButtonEl.classList.add('colab-df-spinner');\n",
              "      try {\n",
              "        const charts = await google.colab.kernel.invokeFunction(\n",
              "            'suggestCharts', [key], {});\n",
              "      } catch (error) {\n",
              "        console.error('Error during call to suggestCharts:', error);\n",
              "      }\n",
              "      quickchartButtonEl.classList.remove('colab-df-spinner');\n",
              "      quickchartButtonEl.classList.add('colab-df-quickchart-complete');\n",
              "    }\n",
              "    (() => {\n",
              "      let quickchartButtonEl =\n",
              "        document.querySelector('#df-a7da9c0d-68f4-41e9-8cc9-696c56fb2f2f button');\n",
              "      quickchartButtonEl.style.display =\n",
              "        google.colab.kernel.accessAllowed ? 'block' : 'none';\n",
              "    })();\n",
              "  </script>\n",
              "</div>\n",
              "    </div>\n",
              "  </div>\n"
            ]
          },
          "metadata": {},
          "execution_count": 2
        }
      ],
      "source": [
        "import pandas as pd\n",
        "\n",
        "data = {\n",
        "    'Год': [1,2,3,4,5,6,7,8,9,10,11,12,13,14,15],\n",
        "    'Урожайность ячменя': [14.1, 9.3, 19.4, 19.7, 5.4, 24.2, 13.8, 24.5, 14.7, 16.6, 5.6, 16.2, 25.3, 11.9, 18.5],\n",
        "}\n",
        "data = pd.DataFrame(data)\n",
        "data\n",
        "\n"
      ]
    },
    {
      "cell_type": "code",
      "source": [
        "import matplotlib.pyplot as plt\n",
        "\n",
        "data_column = 'Урожайность ячменя'\n",
        "\n",
        "# Plotting the data\n",
        "plt.figure(figsize=(10, 6))\n",
        "plt.plot(data['Год'], data[data_column], marker='o')\n",
        "plt.title('Динамика урожайности ячменя')\n",
        "plt.xlabel('Год')\n",
        "plt.ylabel('Урожайность ячменя')\n",
        "plt.grid(True)\n",
        "plt.show()"
      ],
      "metadata": {
        "colab": {
          "base_uri": "https://localhost:8080/",
          "height": 564
        },
        "id": "QyZyZbbf0CPm",
        "outputId": "114357d4-f731-435a-b644-0ea6afc40343"
      },
      "execution_count": 3,
      "outputs": [
        {
          "output_type": "display_data",
          "data": {
            "text/plain": [
              "<Figure size 1000x600 with 1 Axes>"
            ],
            "image/png": "[encoded data removed]"
          },
          "metadata": {}
        }
      ]
    },
    {
      "cell_type": "markdown",
      "source": [
        "##Критерий серий, основанный на медиане\n"
      ],
      "metadata": {
        "id": "ebm5lal3IxUB"
      }
    },
    {
      "cell_type": "markdown",
      "source": [
        "Найдем медиану:"
      ],
      "metadata": {
        "id": "ldJ9jOWojkyV"
      }
    },
    {
      "cell_type": "code",
      "source": [
        "median_yield = data[data_column].median()\n",
        "median_yield"
      ],
      "metadata": {
        "colab": {
          "base_uri": "https://localhost:8080/"
        },
        "id": "eoEzZs-41uwY",
        "outputId": "9f6795fa-c2d5-40f5-e802-1641523efc23"
      },
      "execution_count": null,
      "outputs": [
        {
          "output_type": "execute_result",
          "data": {
            "text/plain": [
              "16.2"
            ]
          },
          "metadata": {},
          "execution_count": 63
        }
      ]
    },
    {
      "cell_type": "markdown",
      "source": [
        "После этого по исходному временному ряду образуем «серии» из плюсов и\n",
        "минусов, на статистическом анализе которых основана процедура проверки\n",
        "гипотезы о неизменности среднего значения временного ряда. Выведем количество таких серий"
      ],
      "metadata": {
        "id": "m3_UKnpNjrTB"
      }
    },
    {
      "cell_type": "code",
      "source": [
        "# Определение серий: значения выше или ниже медианы\n",
        "above_median = data[data_column] > median_yield\n",
        "series = above_median.ne(above_median.shift()).cumsum()\n",
        "series_counts = series.value_counts()\n",
        "\n",
        "# Количество серий\n",
        "num_series = len(series_counts)\n",
        "num_series"
      ],
      "metadata": {
        "colab": {
          "base_uri": "https://localhost:8080/"
        },
        "id": "EAUmmhAb6S0n",
        "outputId": "689e9986-56a0-40b5-8198-fb9362c2fc0a"
      },
      "execution_count": null,
      "outputs": [
        {
          "output_type": "execute_result",
          "data": {
            "text/plain": [
              "12"
            ]
          },
          "metadata": {},
          "execution_count": 64
        }
      ]
    },
    {
      "cell_type": "markdown",
      "source": [
        "Вычислим максимальную длину серий:"
      ],
      "metadata": {
        "id": "JLBl_9LSjzxe"
      }
    },
    {
      "cell_type": "code",
      "source": [
        "# Нахождение длины каждой серии\n",
        "series_lengths = series.map(series.value_counts())\n",
        "\n",
        "# Нахождение максимальной длины серии\n",
        "max_series_length = series_lengths.max()\n",
        "max_series_length"
      ],
      "metadata": {
        "colab": {
          "base_uri": "https://localhost:8080/"
        },
        "id": "Ud5b4uFe6dnZ",
        "outputId": "84f3e57e-94ed-4953-afd0-8cb7d4208d44"
      },
      "execution_count": null,
      "outputs": [
        {
          "output_type": "execute_result",
          "data": {
            "text/plain": [
              "2"
            ]
          },
          "metadata": {},
          "execution_count": 65
        }
      ]
    },
    {
      "cell_type": "markdown",
      "source": [
        "![image.png](data:image/png;base64,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)\n",
        "\n",
        "Проверим следующие неравенства:"
      ],
      "metadata": {
        "id": "GIAM7qtNj45L"
      }
    },
    {
      "cell_type": "code",
      "source": [
        "from math import sqrt, log10\n",
        "\n",
        "n = len(data[data_column])\n",
        "first_equel = int(1/2*(n+2-1.96*sqrt(n-1)))\n",
        "\n",
        "second_equel = int((log10(n) + 1) * 3.3)\n",
        "first_equel, second_equel"
      ],
      "metadata": {
        "colab": {
          "base_uri": "https://localhost:8080/"
        },
        "id": "4Pn5QdpA7ocy",
        "outputId": "e4be6c97-4a31-4fd2-b5d6-40ceeb9823de"
      },
      "execution_count": null,
      "outputs": [
        {
          "output_type": "execute_result",
          "data": {
            "text/plain": [
              "(4, 7)"
            ]
          },
          "metadata": {},
          "execution_count": 66
        }
      ]
    },
    {
      "cell_type": "code",
      "source": [
        "if num_series > first_equel and max_series_length < second_equel:\n",
        "  print('Ни одно из неравенств не нарушено.')\n",
        "else:\n",
        "  print('Нарушено одно или два неравенства.')"
      ],
      "metadata": {
        "colab": {
          "base_uri": "https://localhost:8080/"
        },
        "id": "tsI1BatR-Tp1",
        "outputId": "aa5dea40-3c78-4cdc-c0bd-46fd2b5f9d4b"
      },
      "execution_count": null,
      "outputs": [
        {
          "output_type": "stream",
          "name": "stdout",
          "text": [
            "Ни одно из неравенств не нарушено.\n"
          ]
        }
      ]
    },
    {
      "cell_type": "markdown",
      "source": [
        "Таким образом, гипотеза о неизменности среднего значения временного ряда\n",
        "не отвергается с вероятностью ошибки α и тем самым подтверждается\n",
        "отсутствие тенденции."
      ],
      "metadata": {
        "id": "AXHuJiB-kBzn"
      }
    },
    {
      "cell_type": "markdown",
      "source": [
        "##Критерий «восходящих» и «нисходящих» серий\n",
        "\n",
        "Этот критерий улавливает постепенное смещение среднего значения в\n",
        "исследуемом распределении не только монотонного, но и более общего,\n",
        "например периодического характера.\n",
        "Исследуется последовательность знаков – плюсов и минусов."
      ],
      "metadata": {
        "id": "VaGiLFiZ_ySp"
      }
    },
    {
      "cell_type": "markdown",
      "source": [
        "![image.png](data:image/png;base64,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)\n",
        "\n",
        "Вычислим Kn, иничиализируем неравенство:\n",
        "\n",
        "![image.png](data:image/png;base64,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)"
      ],
      "metadata": {
        "id": "HU1fP7FKkfYY"
      }
    },
    {
      "cell_type": "code",
      "source": [
        "k_n  = 5 # стандартное значение\n",
        "if n <= 26:\n",
        "  k_n = 5\n",
        "elif n>21 and n<=153:\n",
        "  k_n = 6\n",
        "elif n>153 and n<=1170:\n",
        "  k_n = 7\n",
        "\n",
        "first_equel = int((2*n - 1) / 3 - 1.96*sqrt((16*n - 29)/90))\n",
        "\n",
        "second_equel = k_n\n",
        "first_equel, second_equel"
      ],
      "metadata": {
        "colab": {
          "base_uri": "https://localhost:8080/"
        },
        "id": "R1C1_4Sv_zgT",
        "outputId": "6b295346-ca44-4cb6-e933-0b6051b3b2bf"
      },
      "execution_count": null,
      "outputs": [
        {
          "output_type": "execute_result",
          "data": {
            "text/plain": [
              "(6, 5)"
            ]
          },
          "metadata": {},
          "execution_count": 68
        }
      ]
    },
    {
      "cell_type": "code",
      "source": [
        "if num_series > first_equel and max_series_length < second_equel:\n",
        "  print('Ни одно из неравенств не нарушено.')\n",
        "else:\n",
        "  print('Нарушено одно или два неравенства.')"
      ],
      "metadata": {
        "colab": {
          "base_uri": "https://localhost:8080/"
        },
        "id": "JFWqxYGnBMfb",
        "outputId": "e95f94b7-30b7-4537-a8e0-95fb2b43f07a"
      },
      "execution_count": null,
      "outputs": [
        {
          "output_type": "stream",
          "name": "stdout",
          "text": [
            "Ни одно из неравенств не нарушено.\n"
          ]
        }
      ]
    },
    {
      "cell_type": "markdown",
      "source": [
        "Таким образом, гипотеза о неизменности среднего значения временного ряда\n",
        "не отвергается с вероятностью ошибки α и тем самым подтверждается\n",
        "отсутствие тенденции."
      ],
      "metadata": {
        "id": "PJ9aU-m4kx9M"
      }
    },
    {
      "cell_type": "markdown",
      "source": [
        "##Сравнение средних уровней ряда с использованием F-критерия Фишера"
      ],
      "metadata": {
        "id": "EBJnnRNsBalJ"
      }
    },
    {
      "cell_type": "markdown",
      "source": [
        "Разделим ряд на две примерно равные части по числу частей. Вычислим для каждой половины среднее:"
      ],
      "metadata": {
        "id": "1pHr2TAOk2-V"
      }
    },
    {
      "cell_type": "code",
      "source": [
        "from scipy.stats import ttest_ind\n",
        "\n",
        "# Разделение данных на две равные части\n",
        "n = len(data)\n",
        "half = int(n / 2)\n",
        "first_half = data[data_column].iloc[:half]\n",
        "second_half = data[data_column].iloc[half:]\n",
        "\n",
        "# Расчет средних значений для каждой части\n",
        "mean_first_half = first_half.mean()\n",
        "mean_second_half = second_half.mean()\n",
        "\n",
        "mean_first_half, mean_second_half"
      ],
      "metadata": {
        "colab": {
          "base_uri": "https://localhost:8080/"
        },
        "id": "uSu7kA9sBdvQ",
        "outputId": "4a6065a1-247b-44e8-aeee-7bd34bf8a654"
      },
      "execution_count": 4,
      "outputs": [
        {
          "output_type": "execute_result",
          "data": {
            "text/plain": [
              "(15.12857142857143, 16.6625)"
            ]
          },
          "metadata": {},
          "execution_count": 4
        }
      ]
    },
    {
      "cell_type": "markdown",
      "source": [
        "Расчитаем их дисперсию:"
      ],
      "metadata": {
        "id": "tjMvUeqdlF2X"
      }
    },
    {
      "cell_type": "code",
      "source": [
        "# Расчет дисперсий для каждой части\n",
        "variance_first_half = first_half.var()\n",
        "variance_second_half = second_half.var()\n",
        "\n",
        "variance_first_half, variance_second_half"
      ],
      "metadata": {
        "colab": {
          "base_uri": "https://localhost:8080/"
        },
        "id": "uCqjBcyJDnRE",
        "outputId": "767b64df-33d0-490b-b02f-893adb5921b4"
      },
      "execution_count": null,
      "outputs": [
        {
          "output_type": "execute_result",
          "data": {
            "text/plain": [
              "(42.14571428571428, 43.58410714285714)"
            ]
          },
          "metadata": {},
          "execution_count": 52
        }
      ]
    },
    {
      "cell_type": "markdown",
      "source": [
        "Найдем F рассчетное:"
      ],
      "metadata": {
        "id": "s5vktVGPlIrU"
      }
    },
    {
      "cell_type": "code",
      "source": [
        "f_r = max(variance_first_half, variance_second_half) / min(variance_first_half, variance_second_half)\n",
        "f_r"
      ],
      "metadata": {
        "colab": {
          "base_uri": "https://localhost:8080/"
        },
        "id": "QVGxTkD7GZqq",
        "outputId": "8012ae7e-222d-40bc-e32d-efcdcf8d1872"
      },
      "execution_count": null,
      "outputs": [
        {
          "output_type": "execute_result",
          "data": {
            "text/plain": [
              "1.034129042098841"
            ]
          },
          "metadata": {},
          "execution_count": 73
        }
      ]
    },
    {
      "cell_type": "markdown",
      "source": [
        "Найдем F табличное:"
      ],
      "metadata": {
        "id": "cQ_zUFL4lK_D"
      }
    },
    {
      "cell_type": "code",
      "source": [
        "from scipy.stats import f\n",
        "\n",
        "# Уровень значимости (alpha)\n",
        "alpha = 0.05\n",
        "\n",
        "# Табличное значение F для заданного alpha, dfn и dfd\n",
        "F_critical = f.ppf(1 - alpha, half, n - half - 1)\n",
        "F_critical"
      ],
      "metadata": {
        "colab": {
          "base_uri": "https://localhost:8080/"
        },
        "id": "j_E9rlrdG9XQ",
        "outputId": "dea396d8-ced1-4409-da36-4974bbb6b288"
      },
      "execution_count": null,
      "outputs": [
        {
          "output_type": "execute_result",
          "data": {
            "text/plain": [
              "3.7870435399280677"
            ]
          },
          "metadata": {},
          "execution_count": 78
        }
      ]
    },
    {
      "cell_type": "code",
      "source": [
        "if f_r < F_critical:\n",
        "  print('тренд отсутствует')\n",
        "else:\n",
        "  print('тренд присутствует')"
      ],
      "metadata": {
        "colab": {
          "base_uri": "https://localhost:8080/"
        },
        "id": "npQbDvbGHyLS",
        "outputId": "d7d867cb-3a6f-477b-9085-23c66e81445f"
      },
      "execution_count": null,
      "outputs": [
        {
          "output_type": "stream",
          "name": "stdout",
          "text": [
            "тренд отсутствует\n"
          ]
        }
      ]
    },
    {
      "cell_type": "markdown",
      "source": [
        "Так как Fрасч<Fтабл(0,05; 6; 7), то с вероятностью 95% не оснований отвергать\n",
        "нулевую гипотезу, выборочные дисперсии различаются незначительно\n",
        "(расхождение между ними есть величина случайная). Отсюда вывод: тренд\n",
        "урожайности ячменя отсутствует"
      ],
      "metadata": {
        "id": "aORuMNqdlWmb"
      }
    }
  ]
}