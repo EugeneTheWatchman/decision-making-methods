{
 "cells": [
  {
   "cell_type": "markdown",
   "id": "62e548f6",
   "metadata": {},
   "source": [
    "# Метод аддитивной оптимизации"
   ]
  },
  {
   "cell_type": "code",
   "execution_count": 7,
   "id": "535e467f",
   "metadata": {},
   "outputs": [],
   "source": [
    "import pandas as pd\n",
    "import sys\n",
    "if sys.version_info[0] < 3: \n",
    "    from StringIO import StringIO\n",
    "else:\n",
    "    from io import StringIO\n",
    "import numpy as np"
   ]
  },
  {
   "cell_type": "markdown",
   "id": "baac215d",
   "metadata": {},
   "source": [
    "## Заведение исходных данных"
   ]
  },
  {
   "cell_type": "code",
   "execution_count": 8,
   "id": "ed5999db",
   "metadata": {
    "scrolled": true
   },
   "outputs": [
    {
     "data": {
      "text/html": [
       "<div>\n",
       "<style scoped>\n",
       "    .dataframe tbody tr th:only-of-type {\n",
       "        vertical-align: middle;\n",
       "    }\n",
       "\n",
       "    .dataframe tbody tr th {\n",
       "        vertical-align: top;\n",
       "    }\n",
       "\n",
       "    .dataframe thead th {\n",
       "        text-align: right;\n",
       "    }\n",
       "</style>\n",
       "<table border=\"1\" class=\"dataframe\">\n",
       "  <thead>\n",
       "    <tr style=\"text-align: right;\">\n",
       "      <th>Unnamed: 0</th>\n",
       "      <th>Район</th>\n",
       "      <th>стоимость (тыс. руб.)</th>\n",
       "      <th>площадь (м2)</th>\n",
       "      <th>количество комнат</th>\n",
       "      <th>этаж</th>\n",
       "      <th>материал стен</th>\n",
       "      <th>Сумма</th>\n",
       "    </tr>\n",
       "  </thead>\n",
       "  <tbody>\n",
       "    <tr>\n",
       "      <th>Искомый коэффициент значимости</th>\n",
       "      <td>0.233333</td>\n",
       "      <td>0.22381</td>\n",
       "      <td>0.190476</td>\n",
       "      <td>0.07619</td>\n",
       "      <td>0.085714</td>\n",
       "      <td>0.190476</td>\n",
       "      <td>1.0</td>\n",
       "    </tr>\n",
       "  </tbody>\n",
       "</table>\n",
       "</div>"
      ],
      "text/plain": [
       "Unnamed: 0                         Район  стоимость (тыс. руб.)  площадь (м2)  \\\n",
       "Искомый коэффициент значимости  0.233333                0.22381      0.190476   \n",
       "\n",
       "Unnamed: 0                      количество комнат      этаж  материал стен  \\\n",
       "Искомый коэффициент значимости            0.07619  0.085714       0.190476   \n",
       "\n",
       "Unnamed: 0                      Сумма  \n",
       "Искомый коэффициент значимости    1.0  "
      ]
     },
     "execution_count": 8,
     "metadata": {},
     "output_type": "execute_result"
    }
   ],
   "source": [
    "weights = pd.read_csv('Искомый коэффициент значимости.csv',sep=';').set_index('Unnamed: 0').T\n",
    "weights"
   ]
  },
  {
   "cell_type": "code",
   "execution_count": 11,
   "id": "523455a7",
   "metadata": {},
   "outputs": [
    {
     "data": {
      "text/plain": [
       "Район                    0.233333\n",
       "количество комнат        0.076190\n",
       "площадь (м2)             0.190476\n",
       "этаж                     0.085714\n",
       "материал стен            0.190476\n",
       "стоимость (тыс. руб.)    0.223810\n",
       "Name: Искомый коэффициент значимости, dtype: float64"
      ]
     },
     "execution_count": 11,
     "metadata": {},
     "output_type": "execute_result"
    }
   ],
   "source": [
    "weightsArray = [weights['Район'], weights['количество комнат'], weights['площадь (м2)'],\n",
    " weights['этаж'], weights['материал стен'], weights['стоимость (тыс. руб.)']]\n",
    "pd.DataFrame(weightsArray).T.loc['Искомый коэффициент значимости']"
   ]
  },
  {
   "cell_type": "code",
   "execution_count": 12,
   "id": "73019160",
   "metadata": {
    "scrolled": true
   },
   "outputs": [
    {
     "data": {
      "text/html": [
       "<div>\n",
       "<style scoped>\n",
       "    .dataframe tbody tr th:only-of-type {\n",
       "        vertical-align: middle;\n",
       "    }\n",
       "\n",
       "    .dataframe tbody tr th {\n",
       "        vertical-align: top;\n",
       "    }\n",
       "\n",
       "    .dataframe thead th {\n",
       "        text-align: right;\n",
       "    }\n",
       "</style>\n",
       "<table border=\"1\" class=\"dataframe\">\n",
       "  <thead>\n",
       "    <tr style=\"text-align: right;\">\n",
       "      <th></th>\n",
       "      <th>Район</th>\n",
       "      <th>Количество комнат</th>\n",
       "      <th>Площадь, м2</th>\n",
       "      <th>Этаж</th>\n",
       "      <th>Материал</th>\n",
       "      <th>Стоимость, тыс.руб.</th>\n",
       "    </tr>\n",
       "    <tr>\n",
       "      <th>Адрес</th>\n",
       "      <th></th>\n",
       "      <th></th>\n",
       "      <th></th>\n",
       "      <th></th>\n",
       "      <th></th>\n",
       "      <th></th>\n",
       "    </tr>\n",
       "  </thead>\n",
       "  <tbody>\n",
       "    <tr>\n",
       "      <th>Каслинская ул, д. 99в</th>\n",
       "      <td>Калининский</td>\n",
       "      <td>3.0</td>\n",
       "      <td>100.0</td>\n",
       "      <td>3/11</td>\n",
       "      <td>Кирпич</td>\n",
       "      <td>8600.0</td>\n",
       "    </tr>\n",
       "    <tr>\n",
       "      <th>Шагольская ул, д. 34</th>\n",
       "      <td>Курчатовский</td>\n",
       "      <td>4.0</td>\n",
       "      <td>89.0</td>\n",
       "      <td>4/5</td>\n",
       "      <td>Кирпич</td>\n",
       "      <td>2499.0</td>\n",
       "    </tr>\n",
       "    <tr>\n",
       "      <th>Шагольская ул, д. 41</th>\n",
       "      <td>Курчатовский</td>\n",
       "      <td>3.0</td>\n",
       "      <td>65.0</td>\n",
       "      <td>2/5</td>\n",
       "      <td>Панельный</td>\n",
       "      <td>2150.0</td>\n",
       "    </tr>\n",
       "    <tr>\n",
       "      <th>Прокатная ул, д. 26</th>\n",
       "      <td>Металлургический</td>\n",
       "      <td>3.0</td>\n",
       "      <td>91.0</td>\n",
       "      <td>1/16</td>\n",
       "      <td>Панельный</td>\n",
       "      <td>2250.0</td>\n",
       "    </tr>\n",
       "    <tr>\n",
       "      <th>Свободы ул, д. 88б</th>\n",
       "      <td>Советский</td>\n",
       "      <td>3.0</td>\n",
       "      <td>50.0</td>\n",
       "      <td>6/6</td>\n",
       "      <td>Кирпич</td>\n",
       "      <td>4550.0</td>\n",
       "    </tr>\n",
       "    <tr>\n",
       "      <th>Лобинский 10-й пер, д. 3</th>\n",
       "      <td>Тракторозаводский</td>\n",
       "      <td>3.0</td>\n",
       "      <td>63.0</td>\n",
       "      <td>4/5</td>\n",
       "      <td>Панельный</td>\n",
       "      <td>2180.0</td>\n",
       "    </tr>\n",
       "    <tr>\n",
       "      <th>МОПРа площадь ул, д. 9</th>\n",
       "      <td>Центральный</td>\n",
       "      <td>4.0</td>\n",
       "      <td>198.1</td>\n",
       "      <td>9/16</td>\n",
       "      <td>Кирпич</td>\n",
       "      <td>8000.0</td>\n",
       "    </tr>\n",
       "    <tr>\n",
       "      <th>Веса критериев</th>\n",
       "      <td>0.233333</td>\n",
       "      <td>NaN</td>\n",
       "      <td>NaN</td>\n",
       "      <td>NaN</td>\n",
       "      <td>NaN</td>\n",
       "      <td>NaN</td>\n",
       "    </tr>\n",
       "  </tbody>\n",
       "</table>\n",
       "</div>"
      ],
      "text/plain": [
       "                                      Район  Количество комнат  Площадь, м2  \\\n",
       "Адрес                                                                         \n",
       "Каслинская ул, д. 99в           Калининский                3.0        100.0   \n",
       "Шагольская ул, д. 34           Курчатовский                4.0         89.0   \n",
       "Шагольская ул, д. 41           Курчатовский                3.0         65.0   \n",
       "Прокатная ул, д. 26        Металлургический                3.0         91.0   \n",
       "Свободы ул, д. 88б                Советский                3.0         50.0   \n",
       "Лобинский 10-й пер, д. 3  Тракторозаводский                3.0         63.0   \n",
       "МОПРа площадь ул, д. 9          Центральный                4.0        198.1   \n",
       "Веса критериев                     0.233333                NaN          NaN   \n",
       "\n",
       "                          Этаж   Материал  Стоимость, тыс.руб.  \n",
       "Адрес                                                           \n",
       "Каслинская ул, д. 99в     3/11     Кирпич               8600.0  \n",
       "Шагольская ул, д. 34       4/5     Кирпич               2499.0  \n",
       "Шагольская ул, д. 41       2/5  Панельный               2150.0  \n",
       "Прокатная ул, д. 26       1/16  Панельный               2250.0  \n",
       "Свободы ул, д. 88б         6/6     Кирпич               4550.0  \n",
       "Лобинский 10-й пер, д. 3   4/5  Панельный               2180.0  \n",
       "МОПРа площадь ул, д. 9    9/16     Кирпич               8000.0  \n",
       "Веса критериев             NaN        NaN                  NaN  "
      ]
     },
     "execution_count": 12,
     "metadata": {},
     "output_type": "execute_result"
    }
   ],
   "source": [
    "data = StringIO('''Мотоцикл;Цена, руб;Год выпуска;Пробег, км;Объем двигателя, см3;Мощность двигателя, л.с. \n",
    "BMW R Nine T;1099000.00;2017;1070;1200;125 \n",
    "Harley-Davidson V-Rod;5300000.00;2015;1;1250;209 \n",
    "Ducati 1299 Panigale;1399000.00;2016;1600;1299;205 \n",
    "BMW R 1200 GS;1305000.00;2017;4583;1170;125 \n",
    "Triumph Tiger Explorer;1270000.00;2018;2900;1200;141\n",
    "Веса критериев;0.33;0.07;0.25;0.13;0.22''')\n",
    "data = StringIO('''Адрес;Район;Количество комнат;Площадь, м2;Этаж;Материал;Стоимость, тыс.руб.\n",
    "Каслинская ул, д. 99в;Калининский;3;100;3/11;Кирпич;8600\n",
    "Шагольская ул, д. 34;Курчатовский;4;89;4/5;Кирпич;2499\n",
    "Шагольская ул, д. 41;Курчатовский;3;65;2/5;Панельный;2150\n",
    "Прокатная ул, д. 26;Металлургический;3;91;1/16;Панельный;2250\n",
    "Свободы ул, д. 88б;Советский;3;50;6/6;Кирпич;4550\n",
    "Лобинский 10-й пер, д. 3;Тракторозаводский;3;63;4/5;Панельный;2180\n",
    "МОПРа площадь ул, д. 9;Центральный;4;198.1;9/16;Кирпич;8000''')\n",
    "df = pd.read_csv(data, sep=\";\").set_index('Адрес')\n",
    "originalDataLen = len(df)\n",
    "df.loc['Веса критериев'] = pd.DataFrame(weightsArray)['Искомый коэффициент значимости']\n",
    "df.head(originalDataLen+10)"
   ]
  },
  {
   "cell_type": "markdown",
   "id": "5cadfc8c",
   "metadata": {},
   "source": [
    "## Определим максимум и минимум каждого локального критерия"
   ]
  },
  {
   "cell_type": "code",
   "execution_count": null,
   "id": "df7345c5",
   "metadata": {},
   "outputs": [],
   "source": [
    "df.loc['max'] = (df.head(5).max(axis=0))\n",
    "df.loc['min'] = (df.head(5).min(axis=0))"
   ]
  },
  {
   "cell_type": "code",
   "execution_count": null,
   "id": "78507307",
   "metadata": {},
   "outputs": [],
   "source": [
    "df.head(3+originalDataLen)"
   ]
  },
  {
   "cell_type": "markdown",
   "id": "5c45bbad",
   "metadata": {},
   "source": [
    "### Выбор критериев которые максимизируем и минимизируем  \n",
    "  \n",
    "Правило выбора таково:  \n",
    "     1. если критерий имеет прямую зависимость с качеством товара <b>(критерий растет - качество растет), то МАКСИМИЗИРУЕМ</b>  \n",
    "     2. если критерий имеет обратную зависимость с качеством товара <b>(критерий падает - качество растёт), то МИНИМИЗИРУЕМ</b>  "
   ]
  },
  {
   "cell_type": "code",
   "execution_count": null,
   "id": "3711d788",
   "metadata": {},
   "outputs": [],
   "source": [
    "maximizationMinimizationParametrDict = {}\n",
    "print('\"+\" - максимизируем; \"-\" - минимизируем.')\n",
    "for columnName in df.columns:\n",
    "    maximizationMinimizationParametrDict[columnName] = \\\n",
    "        input(f'Критерий: \"{columnName}\", введите +/-: ')"
   ]
  },
  {
   "cell_type": "code",
   "execution_count": null,
   "id": "28f4f369",
   "metadata": {},
   "outputs": [],
   "source": [
    "maximizationMinimizationParametrDict"
   ]
  },
  {
   "cell_type": "markdown",
   "id": "3989d203",
   "metadata": {},
   "source": [
    "## Максимизируем/минимизируем столбцы двумя типами"
   ]
  },
  {
   "cell_type": "code",
   "execution_count": null,
   "id": "e1dcd502",
   "metadata": {},
   "outputs": [],
   "source": [
    "normalizedType1DF = df.copy()\n",
    "normalizedType2DF = df.copy()\n",
    "for columnName in df.columns:\n",
    "    \n",
    "    denominator = df[columnName]['max'] - df[columnName]['min']\n",
    "    \n",
    "    if maximizationMinimizationParametrDict[columnName] == '+':\n",
    "        normalizedType1DF[columnName].iloc[0:originalDataLen] = \\\n",
    "            df[columnName].iloc[0:originalDataLen] / df[columnName]['max']\n",
    "        \n",
    "        normalizedType2DF[columnName].iloc[0:originalDataLen] = \\\n",
    "            (df[columnName].iloc[0:originalDataLen] - df[columnName]['min']) / denominator\n",
    "    else:\n",
    "        normalizedType1DF[columnName].iloc[0:originalDataLen] = \\\n",
    "            1 - df[columnName].iloc[0:originalDataLen] / df[columnName]['max']\n",
    "        \n",
    "        normalizedType2DF[columnName].iloc[0:originalDataLen] = \\\n",
    "            (df[columnName]['max'] - df[columnName].iloc[0:originalDataLen]) / denominator\n"
   ]
  },
  {
   "cell_type": "markdown",
   "id": "7981dfc9",
   "metadata": {},
   "source": [
    "### Типом 1: текущее / максимальное; 1 - текущее / максимальное"
   ]
  },
  {
   "cell_type": "code",
   "execution_count": null,
   "id": "f18a7cc5",
   "metadata": {
    "scrolled": true
   },
   "outputs": [],
   "source": [
    "normalizedType1DF.head(originalDataLen+1)"
   ]
  },
  {
   "cell_type": "markdown",
   "id": "6221159b",
   "metadata": {},
   "source": [
    "### Типом 2: ( текущее - мин ) / ( макс - мин ); ( макс - текущее  ) / ( макс - мин ) "
   ]
  },
  {
   "cell_type": "code",
   "execution_count": null,
   "id": "9cefe0bb",
   "metadata": {},
   "outputs": [],
   "source": [
    "normalizedType2DF.head(6)"
   ]
  },
  {
   "cell_type": "code",
   "execution_count": null,
   "id": "5954287d",
   "metadata": {},
   "outputs": [],
   "source": [
    "normalizedType1DF['Обобщенная функ. цели Fi'] = \\\n",
    "    (normalizedType1DF[:][0:originalDataLen]*normalizedType1DF[:].loc['Веса критериев']).sum(axis=1)\n",
    "print('Fi max =',normalizedType1DF['Обобщенная функ. цели Fi'].max())"
   ]
  },
  {
   "cell_type": "code",
   "execution_count": null,
   "id": "dca4c65d",
   "metadata": {},
   "outputs": [],
   "source": [
    "normalizedType1DF.head(originalDataLen+1)"
   ]
  },
  {
   "cell_type": "code",
   "execution_count": null,
   "id": "78e5cb8f",
   "metadata": {},
   "outputs": [],
   "source": [
    "normalizedType2DF['Обобщенная функ. цели Fi'] = \\\n",
    "    (normalizedType2DF[:][0:originalDataLen]*normalizedType2DF[:].loc['Веса критериев']).sum(axis=1)\n",
    "print('Fi max =',normalizedType2DF['Обобщенная функ. цели Fi'].max())"
   ]
  },
  {
   "cell_type": "code",
   "execution_count": null,
   "id": "438143c6",
   "metadata": {},
   "outputs": [],
   "source": [
    "normalizedType2DF.head(originalDataLen+1)"
   ]
  },
  {
   "cell_type": "code",
   "execution_count": null,
   "id": "17ccc52e",
   "metadata": {},
   "outputs": [],
   "source": []
  }
 ],
 "metadata": {
  "kernelspec": {
   "display_name": "Python 3 (ipykernel)",
   "language": "python",
   "name": "python3"
  },
  "language_info": {
   "codemirror_mode": {
    "name": "ipython",
    "version": 3
   },
   "file_extension": ".py",
   "mimetype": "text/x-python",
   "name": "python",
   "nbconvert_exporter": "python",
   "pygments_lexer": "ipython3",
   "version": "3.10.5"
  }
 },
 "nbformat": 4,
 "nbformat_minor": 5
}
